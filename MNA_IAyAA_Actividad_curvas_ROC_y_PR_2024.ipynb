{
  "nbformat": 4,
  "nbformat_minor": 0,
  "metadata": {
    "colab": {
      "provenance": [],
      "collapsed_sections": [
        "kRCOkHwLRnzT",
        "iq142ztPDj9F",
        "oniRBS-jHjrR",
        "b3Mnv-MgIrQ8",
        "iPlq5JpJLapH",
        "gM7YCsaSN04w",
        "8dDsNoQHOXDY"
      ]
    },
    "kernelspec": {
      "name": "python3",
      "display_name": "Python 3"
    },
    "language_info": {
      "name": "python"
    }
  },
  "cells": [
    {
      "cell_type": "markdown",
      "source": [
        "# **Inteligencia Artificial y Aprendizaje Automático**\n",
        "## **Maestría en Inteligencia Artificial Aplicada**\n",
        "### **Dr Luis Eduardo Falcón Morales**\n",
        "### **Tecnológico de Monterrey**\n",
        "**Actividad Curvas ROC y PR**\n"
      ],
      "metadata": {
        "id": "Vcwn6Uf7uhNs"
      }
    },
    {
      "cell_type": "markdown",
      "source": [
        "# **Itroducción**"
      ],
      "metadata": {
        "id": "kRCOkHwLRnzT"
      }
    },
    {
      "cell_type": "markdown",
      "metadata": {
        "id": "8Sf5NIkOyoWB"
      },
      "source": [
        "La actividad se basa en los datos conocidos como \"oil-spill\" (derrame de petróleo).\n",
        "\n",
        "El archivo de los datos está en Canvas y se llama \"oil-spill.csv\".\n"
      ]
    },
    {
      "cell_type": "markdown",
      "source": [
        "En la siguiente liga se encuentra la liga del artículo relacionado a dicha base de datos. Los datos incluyen 50 columnas y 937 registros. Las primeras 49 columnas son métricas obtenidas de imágenes satelitales del océano, en algunas de las cuales se tiene petróleo que fue derramado por alguna fuente desconocida. En el artículo se describe a detalle la manera en que se obtuvieron dichas columnas. Para la actividad es suficiente considerarlas como de valor numérico. La última columna es de valor 1 (hay derrame en esa sección de la imagen) o 0 (no hay derrame en esa sección de la imagen).\n",
        "\n",
        "https://webdocs.cs.ualberta.ca/~holte/Publications/oilspill.pdf"
      ],
      "metadata": {
        "id": "NAssj-ZfaefR"
      }
    },
    {
      "cell_type": "markdown",
      "source": [
        "En la siguiente liga puedes encontrar información de varias de las métricas que estaremos utilizando:\n",
        "\n",
        "https://scikit-learn.org/stable/modules/model_evaluation.html#scoring-parameter"
      ],
      "metadata": {
        "id": "kyKUDqIQjzUX"
      }
    },
    {
      "cell_type": "markdown",
      "source": [
        "La media geométrica se puede obtener combinando las métricas anteriores, pero para fines prácticos usaremos la de la librería llamada \"imbalanced-learn\":\n",
        "\n",
        "https://glemaitre.github.io/imbalanced-learn/generated/imblearn.metrics.geometric_mean_score.html"
      ],
      "metadata": {
        "id": "F2MPvM4qFqXt"
      }
    },
    {
      "cell_type": "code",
      "metadata": {
        "id": "tITKimmr7qVx",
        "colab": {
          "base_uri": "https://localhost:8080/"
        },
        "outputId": "3174a348-fcc1-4039-d075-1001462e49e9"
      },
      "source": [
        "# Incluye todas las librerías que consideres adecuadas:\n",
        "from google.colab import drive\n",
        "drive.mount('/content/drive')\n",
        "import pandas as pd\n",
        "import numpy as np\n",
        "import matplotlib.pyplot as plt\n",
        "from pandas import read_csv\n",
        "from sklearn.model_selection import train_test_split, RepeatedStratifiedKFold, cross_validate, cross_val_score, GridSearchCV\n",
        "from sklearn.preprocessing import StandardScaler\n",
        "from sklearn.impute import SimpleImputer\n",
        "from sklearn.compose import ColumnTransformer\n",
        "from sklearn.pipeline import Pipeline\n",
        "from sklearn.dummy import DummyClassifier\n",
        "from sklearn.linear_model import LogisticRegression\n",
        "from sklearn.neighbors import KNeighborsClassifier\n",
        "from sklearn.metrics import make_scorer\n",
        "from imblearn.metrics import geometric_mean_score\n",
        "from sklearn.preprocessing import OneHotEncoder\n",
        "from sklearn.metrics import ConfusionMatrixDisplay, RocCurveDisplay, PrecisionRecallDisplay\n"
      ],
      "execution_count": 77,
      "outputs": [
        {
          "output_type": "stream",
          "name": "stdout",
          "text": [
            "Drive already mounted at /content/drive; to attempt to forcibly remount, call drive.mount(\"/content/drive\", force_remount=True).\n"
          ]
        }
      ]
    },
    {
      "cell_type": "markdown",
      "source": [
        "Para fines de la actividad procesaremos los datos de manera estándar para concentrarnos en los temas de la actividad."
      ],
      "metadata": {
        "id": "l4jSSZhk_8kD"
      }
    },
    {
      "cell_type": "code",
      "metadata": {
        "id": "tGAgcXPWzJCy",
        "colab": {
          "base_uri": "https://localhost:8080/"
        },
        "outputId": "96303523-d16c-4c54-cccf-ccb766120233"
      },
      "source": [
        "path = '/content/drive/MyDrive/IAAyAA/Semana4/oil_spill.csv'\n",
        "df = read_csv(path, header=None)   # no tienen nombre las columnas\n",
        "\n",
        "print('Dimensión del DataFrame',df.shape)\n",
        "\n",
        "# eliminamos las siguientes columnas:\n",
        "df.drop(22, axis=1, inplace=True)    # Esta columna tiene un solo valor constante.\n",
        "df.drop(0, axis=1, inplace=True)     # Esta columna contiene información de secciones (batches) de las imágenes, que no la requerimos.\n",
        "\n",
        "df.columns = [i for i in range(df.shape[1])]   # Renombramos las columnas para que sean enteros consecutivos.\n",
        "\n",
        "# Particionamos los datos de entrada (X) y de salida (y):\n",
        "X,y = df.iloc[:,:-1], df.iloc[:,-1]\n",
        "\n",
        "Xtv, Xtest, ytv, ytest = train_test_split(X, y, test_size=0.12, stratify=y, shuffle=True, random_state=0)\n",
        "Xtrain, Xval, ytrain, yval = train_test_split(Xtv, ytv, test_size=0.2, shuffle=True, random_state=5)\n",
        "print('\\nPartición:')\n",
        "print('Train: Conteo clase positiva=%d, Porcentaje=%.2f%%' % (ytrain.sum(), 100*(ytrain.sum() / len(ytrain))))\n",
        "print('Val: Conteo clase positiva=%d, Porcentaje=%.2f%%' % (yval.sum(), 100*(yval.sum() / len(yval))))\n",
        "print('Test: Conteo clase positiva=%d, Porcentaje=%.2f%%' % (ytest.sum(), 100*(ytest.sum() / len(ytest))))"
      ],
      "execution_count": 78,
      "outputs": [
        {
          "output_type": "stream",
          "name": "stdout",
          "text": [
            "Dimensión del DataFrame (937, 50)\n",
            "\n",
            "Partición:\n",
            "Train: Conteo clase positiva=29, Porcentaje=4.40%\n",
            "Val: Conteo clase positiva=7, Porcentaje=4.24%\n",
            "Test: Conteo clase positiva=5, Porcentaje=4.42%\n"
          ]
        }
      ]
    },
    {
      "cell_type": "markdown",
      "source": [
        "Breve descripción numérica y gráfica del conjunto de entrenamiento:"
      ],
      "metadata": {
        "id": "-jLdlxjXBoK_"
      }
    },
    {
      "cell_type": "code",
      "source": [
        "Xtrain.describe().T"
      ],
      "metadata": {
        "id": "jVLkQMkygVb_",
        "colab": {
          "base_uri": "https://localhost:8080/",
          "height": 1000
        },
        "outputId": "fa3ff7e5-1a13-4946-84a0-c22bd0e8201c"
      },
      "execution_count": 79,
      "outputs": [
        {
          "output_type": "execute_result",
          "data": {
            "text/plain": [
              "    count           mean           std       min         25%        50%  \\\n",
              "0   659.0     344.153263  1.880555e+03     10.00      22.000      65.00   \n",
              "1   659.0     709.286161  5.993162e+02      1.95      97.475     727.45   \n",
              "2   659.0     867.791608  5.145066e+02      1.00     445.065     791.35   \n",
              "3   659.0      85.078907  4.573682e+01      0.00      55.000      74.00   \n",
              "4   659.0  824339.418816  4.131627e+06  70312.00  127500.000  187500.00   \n",
              "5   659.0      42.966449  1.259403e+01     21.24      33.430      39.64   \n",
              "6   659.0       9.162307  3.587007e+00      0.83       6.920       8.22   \n",
              "7   659.0    4119.098634  8.899523e+03    667.00    1404.750    2167.00   \n",
              "8   659.0       0.222898  8.984421e-02      0.02       0.170       0.21   \n",
              "9   659.0     110.288771  6.272348e+01     47.00      82.950      99.80   \n",
              "10  659.0       0.251608  8.625698e-02      0.02       0.200       0.24   \n",
              "11  659.0       0.311214  1.188971e-01      0.03       0.240       0.29   \n",
              "12  659.0       0.485706  2.129456e-01      0.05       0.330       0.44   \n",
              "13  659.0       0.183460  8.314772e-02      0.01       0.130       0.18   \n",
              "14  659.0       0.302382  2.019757e-01      0.01       0.130       0.27   \n",
              "15  659.0      83.765508  3.584974e+02      6.37      21.240      34.87   \n",
              "16  659.0      35.155129  1.816125e+02      1.96      11.630      16.27   \n",
              "17  659.0       0.903748  6.658546e-01      0.13       0.370       0.72   \n",
              "18  659.0       0.228604  7.270831e-02      0.02       0.180       0.22   \n",
              "19  659.0       0.289196  1.019243e-01      0.02       0.230       0.27   \n",
              "20  659.0      76.546813  2.296954e+01     47.66      55.850      75.26   \n",
              "21  659.0       0.634219  2.976817e-01      0.17       0.450       0.50   \n",
              "22  659.0     566.533612  6.147895e+02    132.78     221.970     351.67   \n",
              "23  659.0       0.585751  7.080998e-01     -0.71       0.180       0.87   \n",
              "24  659.0       7.606980  4.020812e+00      2.96       4.660       5.07   \n",
              "25  659.0       0.613278  8.475365e-01     -1.79       0.100       0.49   \n",
              "26  659.0       4.325736  3.592343e+00      1.44       2.660       3.34   \n",
              "27  659.0      -2.850349  1.583273e+00     -7.76      -3.260      -2.78   \n",
              "28  659.0      -0.426859  2.152887e-01     -1.37      -0.530      -0.39   \n",
              "29  659.0       1.835964  6.440233e-01      0.00       1.220       1.95   \n",
              "30  659.0       0.002640  4.761813e-02      0.00       0.000       0.00   \n",
              "31  659.0       1.833308  6.485637e-01      0.00       1.220       1.95   \n",
              "32  659.0      44.927162  1.016981e+02      3.00      12.000      23.00   \n",
              "33  659.0    2531.608498  5.585160e+03    360.00     720.000    1350.00   \n",
              "34  659.0       0.006859  5.258930e-03      0.00       0.000       0.01   \n",
              "35  659.0      32.059788  3.275910e+01      5.05      14.280      24.29   \n",
              "36  659.0      91.280728  2.206770e+01     64.00      78.000      82.00   \n",
              "37  659.0      60.725341  1.388682e+01     39.00      50.000      55.00   \n",
              "38  659.0     943.860182  1.033918e+03      0.00     450.780     685.42   \n",
              "39  659.0     445.003536  7.512432e+02      0.00     180.000     282.84   \n",
              "40  659.0     266.278255  5.659219e+02      0.00      94.650     167.14   \n",
              "41  659.0     109.235645  1.376192e+02      0.00      51.960      76.24   \n",
              "42  659.0       4.976586  5.220479e+00      0.00       2.350       3.73   \n",
              "43  659.0       0.128983  3.354361e-01      0.00       0.000       0.00   \n",
              "44  659.0    8194.483126  6.920627e+03   2051.50    3809.525    5621.68   \n",
              "45  659.0      61.628847  1.048401e+01     35.96      65.715      65.93   \n",
              "46  659.0       8.161335  2.917205e+00      5.81       6.370       7.24   \n",
              "\n",
              "           75%          max  \n",
              "0      134.500     28526.00  \n",
              "1     1242.135      1893.08  \n",
              "2     1243.220      2674.16  \n",
              "3      119.000       180.00  \n",
              "4   348750.000  71315000.00  \n",
              "5       51.975        82.64  \n",
              "6       10.755        24.28  \n",
              "7     3600.000    160740.00  \n",
              "8        0.260         0.74  \n",
              "9      115.700       901.70  \n",
              "10       0.290         0.63  \n",
              "11       0.350         0.83  \n",
              "12       0.615         1.19  \n",
              "13       0.220         0.65  \n",
              "14       0.420         1.10  \n",
              "15      64.370      6058.23  \n",
              "16      24.295      4061.15  \n",
              "17       1.050         2.60  \n",
              "18       0.270         0.58  \n",
              "19       0.325         0.76  \n",
              "20      85.220       126.08  \n",
              "21       0.960         1.33  \n",
              "22     422.120      2036.80  \n",
              "23       1.010         1.83  \n",
              "24      12.060        14.78  \n",
              "25       0.990         5.58  \n",
              "26       4.660        39.05  \n",
              "27      -1.680         0.92  \n",
              "28      -0.280         0.00  \n",
              "29       2.170         2.98  \n",
              "30       0.000         0.87  \n",
              "31       2.170         2.98  \n",
              "32      40.000      1695.00  \n",
              "33    2160.000     95310.00  \n",
              "34       0.010         0.02  \n",
              "35      38.915       441.23  \n",
              "36      99.000       143.00  \n",
              "37      67.000        86.00  \n",
              "38    1054.085     11949.33  \n",
              "39     474.340     11500.00  \n",
              "40     269.735      9593.48  \n",
              "41     128.200      1648.80  \n",
              "42       6.150        76.63  \n",
              "43       0.000         1.00  \n",
              "44    9934.025     51985.06  \n",
              "45      66.130        66.45  \n",
              "46       7.850        15.44  "
            ],
            "text/html": [
              "\n",
              "  <div id=\"df-1f47fb53-b826-48f1-a052-8f893a565521\" class=\"colab-df-container\">\n",
              "    <div>\n",
              "<style scoped>\n",
              "    .dataframe tbody tr th:only-of-type {\n",
              "        vertical-align: middle;\n",
              "    }\n",
              "\n",
              "    .dataframe tbody tr th {\n",
              "        vertical-align: top;\n",
              "    }\n",
              "\n",
              "    .dataframe thead th {\n",
              "        text-align: right;\n",
              "    }\n",
              "</style>\n",
              "<table border=\"1\" class=\"dataframe\">\n",
              "  <thead>\n",
              "    <tr style=\"text-align: right;\">\n",
              "      <th></th>\n",
              "      <th>count</th>\n",
              "      <th>mean</th>\n",
              "      <th>std</th>\n",
              "      <th>min</th>\n",
              "      <th>25%</th>\n",
              "      <th>50%</th>\n",
              "      <th>75%</th>\n",
              "      <th>max</th>\n",
              "    </tr>\n",
              "  </thead>\n",
              "  <tbody>\n",
              "    <tr>\n",
              "      <th>0</th>\n",
              "      <td>659.0</td>\n",
              "      <td>344.153263</td>\n",
              "      <td>1.880555e+03</td>\n",
              "      <td>10.00</td>\n",
              "      <td>22.000</td>\n",
              "      <td>65.00</td>\n",
              "      <td>134.500</td>\n",
              "      <td>28526.00</td>\n",
              "    </tr>\n",
              "    <tr>\n",
              "      <th>1</th>\n",
              "      <td>659.0</td>\n",
              "      <td>709.286161</td>\n",
              "      <td>5.993162e+02</td>\n",
              "      <td>1.95</td>\n",
              "      <td>97.475</td>\n",
              "      <td>727.45</td>\n",
              "      <td>1242.135</td>\n",
              "      <td>1893.08</td>\n",
              "    </tr>\n",
              "    <tr>\n",
              "      <th>2</th>\n",
              "      <td>659.0</td>\n",
              "      <td>867.791608</td>\n",
              "      <td>5.145066e+02</td>\n",
              "      <td>1.00</td>\n",
              "      <td>445.065</td>\n",
              "      <td>791.35</td>\n",
              "      <td>1243.220</td>\n",
              "      <td>2674.16</td>\n",
              "    </tr>\n",
              "    <tr>\n",
              "      <th>3</th>\n",
              "      <td>659.0</td>\n",
              "      <td>85.078907</td>\n",
              "      <td>4.573682e+01</td>\n",
              "      <td>0.00</td>\n",
              "      <td>55.000</td>\n",
              "      <td>74.00</td>\n",
              "      <td>119.000</td>\n",
              "      <td>180.00</td>\n",
              "    </tr>\n",
              "    <tr>\n",
              "      <th>4</th>\n",
              "      <td>659.0</td>\n",
              "      <td>824339.418816</td>\n",
              "      <td>4.131627e+06</td>\n",
              "      <td>70312.00</td>\n",
              "      <td>127500.000</td>\n",
              "      <td>187500.00</td>\n",
              "      <td>348750.000</td>\n",
              "      <td>71315000.00</td>\n",
              "    </tr>\n",
              "    <tr>\n",
              "      <th>5</th>\n",
              "      <td>659.0</td>\n",
              "      <td>42.966449</td>\n",
              "      <td>1.259403e+01</td>\n",
              "      <td>21.24</td>\n",
              "      <td>33.430</td>\n",
              "      <td>39.64</td>\n",
              "      <td>51.975</td>\n",
              "      <td>82.64</td>\n",
              "    </tr>\n",
              "    <tr>\n",
              "      <th>6</th>\n",
              "      <td>659.0</td>\n",
              "      <td>9.162307</td>\n",
              "      <td>3.587007e+00</td>\n",
              "      <td>0.83</td>\n",
              "      <td>6.920</td>\n",
              "      <td>8.22</td>\n",
              "      <td>10.755</td>\n",
              "      <td>24.28</td>\n",
              "    </tr>\n",
              "    <tr>\n",
              "      <th>7</th>\n",
              "      <td>659.0</td>\n",
              "      <td>4119.098634</td>\n",
              "      <td>8.899523e+03</td>\n",
              "      <td>667.00</td>\n",
              "      <td>1404.750</td>\n",
              "      <td>2167.00</td>\n",
              "      <td>3600.000</td>\n",
              "      <td>160740.00</td>\n",
              "    </tr>\n",
              "    <tr>\n",
              "      <th>8</th>\n",
              "      <td>659.0</td>\n",
              "      <td>0.222898</td>\n",
              "      <td>8.984421e-02</td>\n",
              "      <td>0.02</td>\n",
              "      <td>0.170</td>\n",
              "      <td>0.21</td>\n",
              "      <td>0.260</td>\n",
              "      <td>0.74</td>\n",
              "    </tr>\n",
              "    <tr>\n",
              "      <th>9</th>\n",
              "      <td>659.0</td>\n",
              "      <td>110.288771</td>\n",
              "      <td>6.272348e+01</td>\n",
              "      <td>47.00</td>\n",
              "      <td>82.950</td>\n",
              "      <td>99.80</td>\n",
              "      <td>115.700</td>\n",
              "      <td>901.70</td>\n",
              "    </tr>\n",
              "    <tr>\n",
              "      <th>10</th>\n",
              "      <td>659.0</td>\n",
              "      <td>0.251608</td>\n",
              "      <td>8.625698e-02</td>\n",
              "      <td>0.02</td>\n",
              "      <td>0.200</td>\n",
              "      <td>0.24</td>\n",
              "      <td>0.290</td>\n",
              "      <td>0.63</td>\n",
              "    </tr>\n",
              "    <tr>\n",
              "      <th>11</th>\n",
              "      <td>659.0</td>\n",
              "      <td>0.311214</td>\n",
              "      <td>1.188971e-01</td>\n",
              "      <td>0.03</td>\n",
              "      <td>0.240</td>\n",
              "      <td>0.29</td>\n",
              "      <td>0.350</td>\n",
              "      <td>0.83</td>\n",
              "    </tr>\n",
              "    <tr>\n",
              "      <th>12</th>\n",
              "      <td>659.0</td>\n",
              "      <td>0.485706</td>\n",
              "      <td>2.129456e-01</td>\n",
              "      <td>0.05</td>\n",
              "      <td>0.330</td>\n",
              "      <td>0.44</td>\n",
              "      <td>0.615</td>\n",
              "      <td>1.19</td>\n",
              "    </tr>\n",
              "    <tr>\n",
              "      <th>13</th>\n",
              "      <td>659.0</td>\n",
              "      <td>0.183460</td>\n",
              "      <td>8.314772e-02</td>\n",
              "      <td>0.01</td>\n",
              "      <td>0.130</td>\n",
              "      <td>0.18</td>\n",
              "      <td>0.220</td>\n",
              "      <td>0.65</td>\n",
              "    </tr>\n",
              "    <tr>\n",
              "      <th>14</th>\n",
              "      <td>659.0</td>\n",
              "      <td>0.302382</td>\n",
              "      <td>2.019757e-01</td>\n",
              "      <td>0.01</td>\n",
              "      <td>0.130</td>\n",
              "      <td>0.27</td>\n",
              "      <td>0.420</td>\n",
              "      <td>1.10</td>\n",
              "    </tr>\n",
              "    <tr>\n",
              "      <th>15</th>\n",
              "      <td>659.0</td>\n",
              "      <td>83.765508</td>\n",
              "      <td>3.584974e+02</td>\n",
              "      <td>6.37</td>\n",
              "      <td>21.240</td>\n",
              "      <td>34.87</td>\n",
              "      <td>64.370</td>\n",
              "      <td>6058.23</td>\n",
              "    </tr>\n",
              "    <tr>\n",
              "      <th>16</th>\n",
              "      <td>659.0</td>\n",
              "      <td>35.155129</td>\n",
              "      <td>1.816125e+02</td>\n",
              "      <td>1.96</td>\n",
              "      <td>11.630</td>\n",
              "      <td>16.27</td>\n",
              "      <td>24.295</td>\n",
              "      <td>4061.15</td>\n",
              "    </tr>\n",
              "    <tr>\n",
              "      <th>17</th>\n",
              "      <td>659.0</td>\n",
              "      <td>0.903748</td>\n",
              "      <td>6.658546e-01</td>\n",
              "      <td>0.13</td>\n",
              "      <td>0.370</td>\n",
              "      <td>0.72</td>\n",
              "      <td>1.050</td>\n",
              "      <td>2.60</td>\n",
              "    </tr>\n",
              "    <tr>\n",
              "      <th>18</th>\n",
              "      <td>659.0</td>\n",
              "      <td>0.228604</td>\n",
              "      <td>7.270831e-02</td>\n",
              "      <td>0.02</td>\n",
              "      <td>0.180</td>\n",
              "      <td>0.22</td>\n",
              "      <td>0.270</td>\n",
              "      <td>0.58</td>\n",
              "    </tr>\n",
              "    <tr>\n",
              "      <th>19</th>\n",
              "      <td>659.0</td>\n",
              "      <td>0.289196</td>\n",
              "      <td>1.019243e-01</td>\n",
              "      <td>0.02</td>\n",
              "      <td>0.230</td>\n",
              "      <td>0.27</td>\n",
              "      <td>0.325</td>\n",
              "      <td>0.76</td>\n",
              "    </tr>\n",
              "    <tr>\n",
              "      <th>20</th>\n",
              "      <td>659.0</td>\n",
              "      <td>76.546813</td>\n",
              "      <td>2.296954e+01</td>\n",
              "      <td>47.66</td>\n",
              "      <td>55.850</td>\n",
              "      <td>75.26</td>\n",
              "      <td>85.220</td>\n",
              "      <td>126.08</td>\n",
              "    </tr>\n",
              "    <tr>\n",
              "      <th>21</th>\n",
              "      <td>659.0</td>\n",
              "      <td>0.634219</td>\n",
              "      <td>2.976817e-01</td>\n",
              "      <td>0.17</td>\n",
              "      <td>0.450</td>\n",
              "      <td>0.50</td>\n",
              "      <td>0.960</td>\n",
              "      <td>1.33</td>\n",
              "    </tr>\n",
              "    <tr>\n",
              "      <th>22</th>\n",
              "      <td>659.0</td>\n",
              "      <td>566.533612</td>\n",
              "      <td>6.147895e+02</td>\n",
              "      <td>132.78</td>\n",
              "      <td>221.970</td>\n",
              "      <td>351.67</td>\n",
              "      <td>422.120</td>\n",
              "      <td>2036.80</td>\n",
              "    </tr>\n",
              "    <tr>\n",
              "      <th>23</th>\n",
              "      <td>659.0</td>\n",
              "      <td>0.585751</td>\n",
              "      <td>7.080998e-01</td>\n",
              "      <td>-0.71</td>\n",
              "      <td>0.180</td>\n",
              "      <td>0.87</td>\n",
              "      <td>1.010</td>\n",
              "      <td>1.83</td>\n",
              "    </tr>\n",
              "    <tr>\n",
              "      <th>24</th>\n",
              "      <td>659.0</td>\n",
              "      <td>7.606980</td>\n",
              "      <td>4.020812e+00</td>\n",
              "      <td>2.96</td>\n",
              "      <td>4.660</td>\n",
              "      <td>5.07</td>\n",
              "      <td>12.060</td>\n",
              "      <td>14.78</td>\n",
              "    </tr>\n",
              "    <tr>\n",
              "      <th>25</th>\n",
              "      <td>659.0</td>\n",
              "      <td>0.613278</td>\n",
              "      <td>8.475365e-01</td>\n",
              "      <td>-1.79</td>\n",
              "      <td>0.100</td>\n",
              "      <td>0.49</td>\n",
              "      <td>0.990</td>\n",
              "      <td>5.58</td>\n",
              "    </tr>\n",
              "    <tr>\n",
              "      <th>26</th>\n",
              "      <td>659.0</td>\n",
              "      <td>4.325736</td>\n",
              "      <td>3.592343e+00</td>\n",
              "      <td>1.44</td>\n",
              "      <td>2.660</td>\n",
              "      <td>3.34</td>\n",
              "      <td>4.660</td>\n",
              "      <td>39.05</td>\n",
              "    </tr>\n",
              "    <tr>\n",
              "      <th>27</th>\n",
              "      <td>659.0</td>\n",
              "      <td>-2.850349</td>\n",
              "      <td>1.583273e+00</td>\n",
              "      <td>-7.76</td>\n",
              "      <td>-3.260</td>\n",
              "      <td>-2.78</td>\n",
              "      <td>-1.680</td>\n",
              "      <td>0.92</td>\n",
              "    </tr>\n",
              "    <tr>\n",
              "      <th>28</th>\n",
              "      <td>659.0</td>\n",
              "      <td>-0.426859</td>\n",
              "      <td>2.152887e-01</td>\n",
              "      <td>-1.37</td>\n",
              "      <td>-0.530</td>\n",
              "      <td>-0.39</td>\n",
              "      <td>-0.280</td>\n",
              "      <td>0.00</td>\n",
              "    </tr>\n",
              "    <tr>\n",
              "      <th>29</th>\n",
              "      <td>659.0</td>\n",
              "      <td>1.835964</td>\n",
              "      <td>6.440233e-01</td>\n",
              "      <td>0.00</td>\n",
              "      <td>1.220</td>\n",
              "      <td>1.95</td>\n",
              "      <td>2.170</td>\n",
              "      <td>2.98</td>\n",
              "    </tr>\n",
              "    <tr>\n",
              "      <th>30</th>\n",
              "      <td>659.0</td>\n",
              "      <td>0.002640</td>\n",
              "      <td>4.761813e-02</td>\n",
              "      <td>0.00</td>\n",
              "      <td>0.000</td>\n",
              "      <td>0.00</td>\n",
              "      <td>0.000</td>\n",
              "      <td>0.87</td>\n",
              "    </tr>\n",
              "    <tr>\n",
              "      <th>31</th>\n",
              "      <td>659.0</td>\n",
              "      <td>1.833308</td>\n",
              "      <td>6.485637e-01</td>\n",
              "      <td>0.00</td>\n",
              "      <td>1.220</td>\n",
              "      <td>1.95</td>\n",
              "      <td>2.170</td>\n",
              "      <td>2.98</td>\n",
              "    </tr>\n",
              "    <tr>\n",
              "      <th>32</th>\n",
              "      <td>659.0</td>\n",
              "      <td>44.927162</td>\n",
              "      <td>1.016981e+02</td>\n",
              "      <td>3.00</td>\n",
              "      <td>12.000</td>\n",
              "      <td>23.00</td>\n",
              "      <td>40.000</td>\n",
              "      <td>1695.00</td>\n",
              "    </tr>\n",
              "    <tr>\n",
              "      <th>33</th>\n",
              "      <td>659.0</td>\n",
              "      <td>2531.608498</td>\n",
              "      <td>5.585160e+03</td>\n",
              "      <td>360.00</td>\n",
              "      <td>720.000</td>\n",
              "      <td>1350.00</td>\n",
              "      <td>2160.000</td>\n",
              "      <td>95310.00</td>\n",
              "    </tr>\n",
              "    <tr>\n",
              "      <th>34</th>\n",
              "      <td>659.0</td>\n",
              "      <td>0.006859</td>\n",
              "      <td>5.258930e-03</td>\n",
              "      <td>0.00</td>\n",
              "      <td>0.000</td>\n",
              "      <td>0.01</td>\n",
              "      <td>0.010</td>\n",
              "      <td>0.02</td>\n",
              "    </tr>\n",
              "    <tr>\n",
              "      <th>35</th>\n",
              "      <td>659.0</td>\n",
              "      <td>32.059788</td>\n",
              "      <td>3.275910e+01</td>\n",
              "      <td>5.05</td>\n",
              "      <td>14.280</td>\n",
              "      <td>24.29</td>\n",
              "      <td>38.915</td>\n",
              "      <td>441.23</td>\n",
              "    </tr>\n",
              "    <tr>\n",
              "      <th>36</th>\n",
              "      <td>659.0</td>\n",
              "      <td>91.280728</td>\n",
              "      <td>2.206770e+01</td>\n",
              "      <td>64.00</td>\n",
              "      <td>78.000</td>\n",
              "      <td>82.00</td>\n",
              "      <td>99.000</td>\n",
              "      <td>143.00</td>\n",
              "    </tr>\n",
              "    <tr>\n",
              "      <th>37</th>\n",
              "      <td>659.0</td>\n",
              "      <td>60.725341</td>\n",
              "      <td>1.388682e+01</td>\n",
              "      <td>39.00</td>\n",
              "      <td>50.000</td>\n",
              "      <td>55.00</td>\n",
              "      <td>67.000</td>\n",
              "      <td>86.00</td>\n",
              "    </tr>\n",
              "    <tr>\n",
              "      <th>38</th>\n",
              "      <td>659.0</td>\n",
              "      <td>943.860182</td>\n",
              "      <td>1.033918e+03</td>\n",
              "      <td>0.00</td>\n",
              "      <td>450.780</td>\n",
              "      <td>685.42</td>\n",
              "      <td>1054.085</td>\n",
              "      <td>11949.33</td>\n",
              "    </tr>\n",
              "    <tr>\n",
              "      <th>39</th>\n",
              "      <td>659.0</td>\n",
              "      <td>445.003536</td>\n",
              "      <td>7.512432e+02</td>\n",
              "      <td>0.00</td>\n",
              "      <td>180.000</td>\n",
              "      <td>282.84</td>\n",
              "      <td>474.340</td>\n",
              "      <td>11500.00</td>\n",
              "    </tr>\n",
              "    <tr>\n",
              "      <th>40</th>\n",
              "      <td>659.0</td>\n",
              "      <td>266.278255</td>\n",
              "      <td>5.659219e+02</td>\n",
              "      <td>0.00</td>\n",
              "      <td>94.650</td>\n",
              "      <td>167.14</td>\n",
              "      <td>269.735</td>\n",
              "      <td>9593.48</td>\n",
              "    </tr>\n",
              "    <tr>\n",
              "      <th>41</th>\n",
              "      <td>659.0</td>\n",
              "      <td>109.235645</td>\n",
              "      <td>1.376192e+02</td>\n",
              "      <td>0.00</td>\n",
              "      <td>51.960</td>\n",
              "      <td>76.24</td>\n",
              "      <td>128.200</td>\n",
              "      <td>1648.80</td>\n",
              "    </tr>\n",
              "    <tr>\n",
              "      <th>42</th>\n",
              "      <td>659.0</td>\n",
              "      <td>4.976586</td>\n",
              "      <td>5.220479e+00</td>\n",
              "      <td>0.00</td>\n",
              "      <td>2.350</td>\n",
              "      <td>3.73</td>\n",
              "      <td>6.150</td>\n",
              "      <td>76.63</td>\n",
              "    </tr>\n",
              "    <tr>\n",
              "      <th>43</th>\n",
              "      <td>659.0</td>\n",
              "      <td>0.128983</td>\n",
              "      <td>3.354361e-01</td>\n",
              "      <td>0.00</td>\n",
              "      <td>0.000</td>\n",
              "      <td>0.00</td>\n",
              "      <td>0.000</td>\n",
              "      <td>1.00</td>\n",
              "    </tr>\n",
              "    <tr>\n",
              "      <th>44</th>\n",
              "      <td>659.0</td>\n",
              "      <td>8194.483126</td>\n",
              "      <td>6.920627e+03</td>\n",
              "      <td>2051.50</td>\n",
              "      <td>3809.525</td>\n",
              "      <td>5621.68</td>\n",
              "      <td>9934.025</td>\n",
              "      <td>51985.06</td>\n",
              "    </tr>\n",
              "    <tr>\n",
              "      <th>45</th>\n",
              "      <td>659.0</td>\n",
              "      <td>61.628847</td>\n",
              "      <td>1.048401e+01</td>\n",
              "      <td>35.96</td>\n",
              "      <td>65.715</td>\n",
              "      <td>65.93</td>\n",
              "      <td>66.130</td>\n",
              "      <td>66.45</td>\n",
              "    </tr>\n",
              "    <tr>\n",
              "      <th>46</th>\n",
              "      <td>659.0</td>\n",
              "      <td>8.161335</td>\n",
              "      <td>2.917205e+00</td>\n",
              "      <td>5.81</td>\n",
              "      <td>6.370</td>\n",
              "      <td>7.24</td>\n",
              "      <td>7.850</td>\n",
              "      <td>15.44</td>\n",
              "    </tr>\n",
              "  </tbody>\n",
              "</table>\n",
              "</div>\n",
              "    <div class=\"colab-df-buttons\">\n",
              "\n",
              "  <div class=\"colab-df-container\">\n",
              "    <button class=\"colab-df-convert\" onclick=\"convertToInteractive('df-1f47fb53-b826-48f1-a052-8f893a565521')\"\n",
              "            title=\"Convert this dataframe to an interactive table.\"\n",
              "            style=\"display:none;\">\n",
              "\n",
              "  <svg xmlns=\"http://www.w3.org/2000/svg\" height=\"24px\" viewBox=\"0 -960 960 960\">\n",
              "    <path d=\"M120-120v-720h720v720H120Zm60-500h600v-160H180v160Zm220 220h160v-160H400v160Zm0 220h160v-160H400v160ZM180-400h160v-160H180v160Zm440 0h160v-160H620v160ZM180-180h160v-160H180v160Zm440 0h160v-160H620v160Z\"/>\n",
              "  </svg>\n",
              "    </button>\n",
              "\n",
              "  <style>\n",
              "    .colab-df-container {\n",
              "      display:flex;\n",
              "      gap: 12px;\n",
              "    }\n",
              "\n",
              "    .colab-df-convert {\n",
              "      background-color: #E8F0FE;\n",
              "      border: none;\n",
              "      border-radius: 50%;\n",
              "      cursor: pointer;\n",
              "      display: none;\n",
              "      fill: #1967D2;\n",
              "      height: 32px;\n",
              "      padding: 0 0 0 0;\n",
              "      width: 32px;\n",
              "    }\n",
              "\n",
              "    .colab-df-convert:hover {\n",
              "      background-color: #E2EBFA;\n",
              "      box-shadow: 0px 1px 2px rgba(60, 64, 67, 0.3), 0px 1px 3px 1px rgba(60, 64, 67, 0.15);\n",
              "      fill: #174EA6;\n",
              "    }\n",
              "\n",
              "    .colab-df-buttons div {\n",
              "      margin-bottom: 4px;\n",
              "    }\n",
              "\n",
              "    [theme=dark] .colab-df-convert {\n",
              "      background-color: #3B4455;\n",
              "      fill: #D2E3FC;\n",
              "    }\n",
              "\n",
              "    [theme=dark] .colab-df-convert:hover {\n",
              "      background-color: #434B5C;\n",
              "      box-shadow: 0px 1px 3px 1px rgba(0, 0, 0, 0.15);\n",
              "      filter: drop-shadow(0px 1px 2px rgba(0, 0, 0, 0.3));\n",
              "      fill: #FFFFFF;\n",
              "    }\n",
              "  </style>\n",
              "\n",
              "    <script>\n",
              "      const buttonEl =\n",
              "        document.querySelector('#df-1f47fb53-b826-48f1-a052-8f893a565521 button.colab-df-convert');\n",
              "      buttonEl.style.display =\n",
              "        google.colab.kernel.accessAllowed ? 'block' : 'none';\n",
              "\n",
              "      async function convertToInteractive(key) {\n",
              "        const element = document.querySelector('#df-1f47fb53-b826-48f1-a052-8f893a565521');\n",
              "        const dataTable =\n",
              "          await google.colab.kernel.invokeFunction('convertToInteractive',\n",
              "                                                    [key], {});\n",
              "        if (!dataTable) return;\n",
              "\n",
              "        const docLinkHtml = 'Like what you see? Visit the ' +\n",
              "          '<a target=\"_blank\" href=https://colab.research.google.com/notebooks/data_table.ipynb>data table notebook</a>'\n",
              "          + ' to learn more about interactive tables.';\n",
              "        element.innerHTML = '';\n",
              "        dataTable['output_type'] = 'display_data';\n",
              "        await google.colab.output.renderOutput(dataTable, element);\n",
              "        const docLink = document.createElement('div');\n",
              "        docLink.innerHTML = docLinkHtml;\n",
              "        element.appendChild(docLink);\n",
              "      }\n",
              "    </script>\n",
              "  </div>\n",
              "\n",
              "\n",
              "    <div id=\"df-4aa0b048-28a4-4440-b1c3-23ebf9fa6731\">\n",
              "      <button class=\"colab-df-quickchart\" onclick=\"quickchart('df-4aa0b048-28a4-4440-b1c3-23ebf9fa6731')\"\n",
              "                title=\"Suggest charts\"\n",
              "                style=\"display:none;\">\n",
              "\n",
              "<svg xmlns=\"http://www.w3.org/2000/svg\" height=\"24px\"viewBox=\"0 0 24 24\"\n",
              "     width=\"24px\">\n",
              "    <g>\n",
              "        <path d=\"M19 3H5c-1.1 0-2 .9-2 2v14c0 1.1.9 2 2 2h14c1.1 0 2-.9 2-2V5c0-1.1-.9-2-2-2zM9 17H7v-7h2v7zm4 0h-2V7h2v10zm4 0h-2v-4h2v4z\"/>\n",
              "    </g>\n",
              "</svg>\n",
              "      </button>\n",
              "\n",
              "<style>\n",
              "  .colab-df-quickchart {\n",
              "      --bg-color: #E8F0FE;\n",
              "      --fill-color: #1967D2;\n",
              "      --hover-bg-color: #E2EBFA;\n",
              "      --hover-fill-color: #174EA6;\n",
              "      --disabled-fill-color: #AAA;\n",
              "      --disabled-bg-color: #DDD;\n",
              "  }\n",
              "\n",
              "  [theme=dark] .colab-df-quickchart {\n",
              "      --bg-color: #3B4455;\n",
              "      --fill-color: #D2E3FC;\n",
              "      --hover-bg-color: #434B5C;\n",
              "      --hover-fill-color: #FFFFFF;\n",
              "      --disabled-bg-color: #3B4455;\n",
              "      --disabled-fill-color: #666;\n",
              "  }\n",
              "\n",
              "  .colab-df-quickchart {\n",
              "    background-color: var(--bg-color);\n",
              "    border: none;\n",
              "    border-radius: 50%;\n",
              "    cursor: pointer;\n",
              "    display: none;\n",
              "    fill: var(--fill-color);\n",
              "    height: 32px;\n",
              "    padding: 0;\n",
              "    width: 32px;\n",
              "  }\n",
              "\n",
              "  .colab-df-quickchart:hover {\n",
              "    background-color: var(--hover-bg-color);\n",
              "    box-shadow: 0 1px 2px rgba(60, 64, 67, 0.3), 0 1px 3px 1px rgba(60, 64, 67, 0.15);\n",
              "    fill: var(--button-hover-fill-color);\n",
              "  }\n",
              "\n",
              "  .colab-df-quickchart-complete:disabled,\n",
              "  .colab-df-quickchart-complete:disabled:hover {\n",
              "    background-color: var(--disabled-bg-color);\n",
              "    fill: var(--disabled-fill-color);\n",
              "    box-shadow: none;\n",
              "  }\n",
              "\n",
              "  .colab-df-spinner {\n",
              "    border: 2px solid var(--fill-color);\n",
              "    border-color: transparent;\n",
              "    border-bottom-color: var(--fill-color);\n",
              "    animation:\n",
              "      spin 1s steps(1) infinite;\n",
              "  }\n",
              "\n",
              "  @keyframes spin {\n",
              "    0% {\n",
              "      border-color: transparent;\n",
              "      border-bottom-color: var(--fill-color);\n",
              "      border-left-color: var(--fill-color);\n",
              "    }\n",
              "    20% {\n",
              "      border-color: transparent;\n",
              "      border-left-color: var(--fill-color);\n",
              "      border-top-color: var(--fill-color);\n",
              "    }\n",
              "    30% {\n",
              "      border-color: transparent;\n",
              "      border-left-color: var(--fill-color);\n",
              "      border-top-color: var(--fill-color);\n",
              "      border-right-color: var(--fill-color);\n",
              "    }\n",
              "    40% {\n",
              "      border-color: transparent;\n",
              "      border-right-color: var(--fill-color);\n",
              "      border-top-color: var(--fill-color);\n",
              "    }\n",
              "    60% {\n",
              "      border-color: transparent;\n",
              "      border-right-color: var(--fill-color);\n",
              "    }\n",
              "    80% {\n",
              "      border-color: transparent;\n",
              "      border-right-color: var(--fill-color);\n",
              "      border-bottom-color: var(--fill-color);\n",
              "    }\n",
              "    90% {\n",
              "      border-color: transparent;\n",
              "      border-bottom-color: var(--fill-color);\n",
              "    }\n",
              "  }\n",
              "</style>\n",
              "\n",
              "      <script>\n",
              "        async function quickchart(key) {\n",
              "          const quickchartButtonEl =\n",
              "            document.querySelector('#' + key + ' button');\n",
              "          quickchartButtonEl.disabled = true;  // To prevent multiple clicks.\n",
              "          quickchartButtonEl.classList.add('colab-df-spinner');\n",
              "          try {\n",
              "            const charts = await google.colab.kernel.invokeFunction(\n",
              "                'suggestCharts', [key], {});\n",
              "          } catch (error) {\n",
              "            console.error('Error during call to suggestCharts:', error);\n",
              "          }\n",
              "          quickchartButtonEl.classList.remove('colab-df-spinner');\n",
              "          quickchartButtonEl.classList.add('colab-df-quickchart-complete');\n",
              "        }\n",
              "        (() => {\n",
              "          let quickchartButtonEl =\n",
              "            document.querySelector('#df-4aa0b048-28a4-4440-b1c3-23ebf9fa6731 button');\n",
              "          quickchartButtonEl.style.display =\n",
              "            google.colab.kernel.accessAllowed ? 'block' : 'none';\n",
              "        })();\n",
              "      </script>\n",
              "    </div>\n",
              "\n",
              "    </div>\n",
              "  </div>\n"
            ],
            "application/vnd.google.colaboratory.intrinsic+json": {
              "type": "dataframe",
              "summary": "{\n  \"name\": \"Xtrain\",\n  \"rows\": 47,\n  \"fields\": [\n    {\n      \"column\": \"count\",\n      \"properties\": {\n        \"dtype\": \"number\",\n        \"std\": 0.0,\n        \"min\": 659.0,\n        \"max\": 659.0,\n        \"num_unique_values\": 1,\n        \"samples\": [\n          659.0\n        ],\n        \"semantic_type\": \"\",\n        \"description\": \"\"\n      }\n    },\n    {\n      \"column\": \"mean\",\n      \"properties\": {\n        \"dtype\": \"number\",\n        \"std\": 120186.95777552716,\n        \"min\": -2.8503490136570564,\n        \"max\": 824339.4188163885,\n        \"num_unique_values\": 47,\n        \"samples\": [\n          -2.8503490136570564\n        ],\n        \"semantic_type\": \"\",\n        \"description\": \"\"\n      }\n    },\n    {\n      \"column\": \"std\",\n      \"properties\": {\n        \"dtype\": \"number\",\n        \"std\": 602572.4281047863,\n        \"min\": 0.005258930105031906,\n        \"max\": 4131627.4755896847,\n        \"num_unique_values\": 47,\n        \"samples\": [\n          1.5832734259205616\n        ],\n        \"semantic_type\": \"\",\n        \"description\": \"\"\n      }\n    },\n    {\n      \"column\": \"min\",\n      \"properties\": {\n        \"dtype\": \"number\",\n        \"std\": 10249.798975291173,\n        \"min\": -7.76,\n        \"max\": 70312.0,\n        \"num_unique_values\": 33,\n        \"samples\": [\n          35.96\n        ],\n        \"semantic_type\": \"\",\n        \"description\": \"\"\n      }\n    },\n    {\n      \"column\": \"25%\",\n      \"properties\": {\n        \"dtype\": \"number\",\n        \"std\": 18581.856724363883,\n        \"min\": -3.26,\n        \"max\": 127500.0,\n        \"num_unique_values\": 42,\n        \"samples\": [\n          -3.26\n        ],\n        \"semantic_type\": \"\",\n        \"description\": \"\"\n      }\n    },\n    {\n      \"column\": \"50%\",\n      \"properties\": {\n        \"dtype\": \"number\",\n        \"std\": 27323.238552960363,\n        \"min\": -2.78,\n        \"max\": 187500.0,\n        \"num_unique_values\": 44,\n        \"samples\": [\n          282.84\n        ],\n        \"semantic_type\": \"\",\n        \"description\": \"\"\n      }\n    },\n    {\n      \"column\": \"75%\",\n      \"properties\": {\n        \"dtype\": \"number\",\n        \"std\": 50826.04321277658,\n        \"min\": -1.68,\n        \"max\": 348750.0,\n        \"num_unique_values\": 45,\n        \"samples\": [\n          269.735\n        ],\n        \"semantic_type\": \"\",\n        \"description\": \"\"\n      }\n    },\n    {\n      \"column\": \"max\",\n      \"properties\": {\n        \"dtype\": \"number\",\n        \"std\": 10401156.319596611,\n        \"min\": 0.0,\n        \"max\": 71315000.0,\n        \"num_unique_values\": 46,\n        \"samples\": [\n          9593.48\n        ],\n        \"semantic_type\": \"\",\n        \"description\": \"\"\n      }\n    }\n  ]\n}"
            }
          },
          "metadata": {},
          "execution_count": 79
        }
      ]
    },
    {
      "cell_type": "code",
      "metadata": {
        "id": "LQ9SWsZS1PzB",
        "colab": {
          "base_uri": "https://localhost:8080/",
          "height": 411
        },
        "outputId": "2a9ced6b-1f2d-431c-86d2-27eed955c630"
      },
      "source": [
        "ax = Xtrain.hist()  # Histogramas:\n",
        "# Quitemos toda la información del gráfico para visualizarlo de manera sencilla:\n",
        "for axis in ax.flatten():\n",
        "  axis.set_title('')\n",
        "  axis.set_xticklabels([])\n",
        "  axis.set_yticklabels([])\n",
        "plt.show()"
      ],
      "execution_count": 80,
      "outputs": [
        {
          "output_type": "display_data",
          "data": {
            "text/plain": [
              "<Figure size 640x480 with 49 Axes>"
            ],
            "image/png": "[encoded data removed]"
          },
          "metadata": {}
        }
      ]
    },
    {
      "cell_type": "code",
      "source": [
        "Xtrain.info()"
      ],
      "metadata": {
        "id": "MlCqWN-Tl_CG",
        "colab": {
          "base_uri": "https://localhost:8080/"
        },
        "outputId": "4c0b91b1-89da-4b76-9b6c-386976131bc5"
      },
      "execution_count": 81,
      "outputs": [
        {
          "output_type": "stream",
          "name": "stdout",
          "text": [
            "<class 'pandas.core.frame.DataFrame'>\n",
            "Index: 659 entries, 770 to 460\n",
            "Data columns (total 47 columns):\n",
            " #   Column  Non-Null Count  Dtype  \n",
            "---  ------  --------------  -----  \n",
            " 0   0       659 non-null    int64  \n",
            " 1   1       659 non-null    float64\n",
            " 2   2       659 non-null    float64\n",
            " 3   3       659 non-null    int64  \n",
            " 4   4       659 non-null    float64\n",
            " 5   5       659 non-null    float64\n",
            " 6   6       659 non-null    float64\n",
            " 7   7       659 non-null    float64\n",
            " 8   8       659 non-null    float64\n",
            " 9   9       659 non-null    float64\n",
            " 10  10      659 non-null    float64\n",
            " 11  11      659 non-null    float64\n",
            " 12  12      659 non-null    float64\n",
            " 13  13      659 non-null    float64\n",
            " 14  14      659 non-null    float64\n",
            " 15  15      659 non-null    float64\n",
            " 16  16      659 non-null    float64\n",
            " 17  17      659 non-null    float64\n",
            " 18  18      659 non-null    float64\n",
            " 19  19      659 non-null    float64\n",
            " 20  20      659 non-null    float64\n",
            " 21  21      659 non-null    float64\n",
            " 22  22      659 non-null    float64\n",
            " 23  23      659 non-null    float64\n",
            " 24  24      659 non-null    float64\n",
            " 25  25      659 non-null    float64\n",
            " 26  26      659 non-null    float64\n",
            " 27  27      659 non-null    float64\n",
            " 28  28      659 non-null    float64\n",
            " 29  29      659 non-null    float64\n",
            " 30  30      659 non-null    float64\n",
            " 31  31      659 non-null    float64\n",
            " 32  32      659 non-null    int64  \n",
            " 33  33      659 non-null    int64  \n",
            " 34  34      659 non-null    float64\n",
            " 35  35      659 non-null    float64\n",
            " 36  36      659 non-null    int64  \n",
            " 37  37      659 non-null    int64  \n",
            " 38  38      659 non-null    float64\n",
            " 39  39      659 non-null    float64\n",
            " 40  40      659 non-null    float64\n",
            " 41  41      659 non-null    float64\n",
            " 42  42      659 non-null    float64\n",
            " 43  43      659 non-null    int64  \n",
            " 44  44      659 non-null    float64\n",
            " 45  45      659 non-null    float64\n",
            " 46  46      659 non-null    float64\n",
            "dtypes: float64(40), int64(7)\n",
            "memory usage: 247.1 KB\n"
          ]
        }
      ]
    },
    {
      "cell_type": "code",
      "metadata": {
        "id": "rRnWD-yoXnk8",
        "colab": {
          "base_uri": "https://localhost:8080/"
        },
        "outputId": "c8e40998-07a3-443d-a21c-bbcd546f885f"
      },
      "source": [
        "# Código-1:\n",
        "# Aplicamos la función Dummy:\n",
        "\n",
        "def evaluate_model(X, y, model):\n",
        "  cv = RepeatedStratifiedKFold(n_splits=10, n_repeats=3, random_state=1)\n",
        "  metric = make_scorer(geometric_mean_score)\n",
        "  scores = cross_val_score(model, X, y, scoring=metric, cv=cv, n_jobs=-1)\n",
        "  return scores\n",
        "\n",
        "\n",
        "modeloD = DummyClassifier(strategy='uniform')\n",
        "scores = evaluate_model(X, y, modeloD)\n",
        "\n",
        "print('Métrica G-mean - Media Geométrica: %.3f (%.3f)' % (np.nanmean(scores), np.nanstd(scores)))"
      ],
      "execution_count": 82,
      "outputs": [
        {
          "output_type": "stream",
          "name": "stdout",
          "text": [
            "Métrica G-mean - Media Geométrica: 0.484 (0.194)\n"
          ]
        }
      ]
    },
    {
      "cell_type": "markdown",
      "source": [
        "# **Ejercicio-1**"
      ],
      "metadata": {
        "id": "iq142ztPDj9F"
      }
    },
    {
      "cell_type": "markdown",
      "source": [
        "### **Explica lo que hace cada línea de código de la celda anterior llamada \"Código-1\", así como lo que significa el valor que se obtiene en su salida:**\n",
        "\n",
        "**+++++++++++ Inicia sección para agregar texto ++++++++++++++++**\n",
        "\n",
        "\n",
        "\n",
        "1.   Es la definicion de una función con tres parámetros de entrada.\n",
        "2.   Se crea la variable (o instancia) cv de tipo RepeatedStratifiedFold (validación cruzada), con los parametros n_splits=10, n_repeats=3, random_state=1.\n",
        "3.   Se crea la métrica de evaluación metric con make_scorer, con el parametro geometric_mean_score.\n",
        "4.   Se ejecuta la validación cruzada, utilizando la metrica creada asi como los demas parametros requeridos.\n",
        "5.   La función termina y regresa el valor de resultado de la validación cruzada\n",
        "6.   Se llama la función DummyClassifier (realiza predicciones ignorando las variables de entrada) utilizando uniform como estrategia, es decir, todas las clases de salida (y) tienen la misma posibilidad de ser predecidas. Dicha función es almacenada en la instancia llamada modeloD.\n",
        "7.   Se evalua el modelo creado y guarda los valores obtenidos en la variable scores.\n",
        "8.   Se imprimen los valores obtenidos.\n",
        "9.   Significado del valor de salida: tras usar el modelo dummyclassifier con la estrategia uniform, obtenemos que el modelo clasifico cerca de un 50% correctamente, lo cual era de esperarse con las opciones seleccionas (uniform le da la misma probabilidad a las clases 'y' de ser seleccionadas).\n",
        "\n",
        "\n",
        "\n",
        "\n",
        "**+++++++++++ Termina sección para agregar texto ++++++++++++++**"
      ],
      "metadata": {
        "id": "r4t1H1lADk1c"
      }
    },
    {
      "cell_type": "markdown",
      "source": [
        "Para fines de esta actividad definimos las siguientes transformaciones del preprocesamiento de los datos:"
      ],
      "metadata": {
        "id": "fYPq7gNDE0Bb"
      }
    },
    {
      "cell_type": "code",
      "source": [
        "# Transforamaciones numéricas:\n",
        "\n",
        "numericas_pipeline = Pipeline(steps = [('impMediana', SimpleImputer(strategy='mean')),\n",
        "                                       ('std_transformer', StandardScaler())])\n",
        "numericas_pipeline_nombres = Xtrain.columns\n",
        "\n",
        "columnasTransformer = ColumnTransformer(transformers = [('num', numericas_pipeline, numericas_pipeline_nombres)],\n",
        "                                        remainder='passthrough')"
      ],
      "metadata": {
        "id": "vngPHRx4SbJl"
      },
      "execution_count": 83,
      "outputs": []
    },
    {
      "cell_type": "code",
      "source": [
        "mi_metrica = make_scorer(geometric_mean_score)  # definimos la métrica G-mean"
      ],
      "metadata": {
        "id": "On9HsGmUeytp"
      },
      "execution_count": 84,
      "outputs": []
    },
    {
      "cell_type": "code",
      "source": [
        "# Código-2:\n",
        "# ACCURACY & G-mean\n",
        "\n",
        "def mis_modelos1():\n",
        "  modelos, nombres = list(), list()\n",
        "\n",
        "  modelos.append(LogisticRegression(penalty=None,\n",
        "                                    max_iter=2000,\n",
        "                                    random_state=1))\n",
        "  nombres.append('LR')\n",
        "\n",
        "\n",
        "  modelos.append(LogisticRegression(penalty='l1',\n",
        "                                    solver='liblinear',\n",
        "                                    max_iter=2000,\n",
        "                                    random_state=1))\n",
        "  nombres.append('LASSO')\n",
        "\n",
        "\n",
        "  modelos.append(LogisticRegression(penalty='l2',\n",
        "                                    max_iter=2000,\n",
        "                                    random_state=1))\n",
        "  nombres.append('RIDGE')\n",
        "\n",
        "  modelos.append(LogisticRegression(penalty='elasticnet',\n",
        "                                    l1_ratio=0.5,\n",
        "                                    solver='saga',\n",
        "                                    max_iter=5000,\n",
        "                                    random_state=1))\n",
        "  nombres.append('EN')\n",
        "\n",
        "  modelos.append(KNeighborsClassifier(n_neighbors=5))\n",
        "  nombres.append('kNN')\n",
        "\n",
        "  return modelos, nombres\n",
        "\n",
        "# +++++++++++++++++++++++++++++++\n",
        "\n",
        "\n",
        "modelos, nombres = mis_modelos1()\n",
        "resultados1, resultados2 = list(), list()\n",
        "print('Resultados de Validación:')\n",
        "\n",
        "for i in range(len(modelos)):\n",
        "\n",
        "  pipeline = Pipeline(steps=[('ct',columnasTransformer),('m',modelos[i])])\n",
        "  cv1 = RepeatedStratifiedKFold(n_splits=5, n_repeats=3, random_state=7)\n",
        "  scores = cross_validate(pipeline,\n",
        "                          Xtv,\n",
        "                          np.ravel(ytv),\n",
        "                          scoring={'exactitud':'accuracy', 'm_geo':mi_metrica},\n",
        "                          cv=cv1)\n",
        "\n",
        "  resultados1.append(scores['test_exactitud'])\n",
        "  resultados2.append(scores['test_m_geo'])\n",
        "\n",
        "  print(nombres[i])\n",
        "  print('Exactitud: >> %.3f (%.3f)' % (np.nanmean(scores['test_exactitud']), np.nanstd(scores['test_exactitud'])))\n",
        "  print('G-mean: >> %.3f (%.3f)' % (np.nanmean(scores['test_m_geo']), np.nanstd(scores['test_m_geo'])))\n",
        "  print()\n",
        "\n",
        "plt.boxplot(resultados1, labels=nombres,  showmeans=True)\n",
        "plt.title(\"Exactitud - Accuracy\")\n",
        "plt.show()\n",
        "\n",
        "plt.boxplot(resultados2, labels=nombres,  showmeans=True)\n",
        "plt.title(\"G-Mean\")\n",
        "plt.show()\n"
      ],
      "metadata": {
        "id": "OikwDqHbSbF4",
        "colab": {
          "base_uri": "https://localhost:8080/",
          "height": 1000
        },
        "outputId": "3ad83174-6de1-4cc7-9984-2d3c80f8cdf9"
      },
      "execution_count": 85,
      "outputs": [
        {
          "output_type": "stream",
          "name": "stdout",
          "text": [
            "Resultados de Validación:\n",
            "LR\n",
            "Exactitud: >> 0.951 (0.015)\n",
            "G-mean: >> 0.753 (0.079)\n",
            "\n",
            "LASSO\n",
            "Exactitud: >> 0.968 (0.009)\n",
            "G-mean: >> 0.689 (0.104)\n",
            "\n",
            "RIDGE\n",
            "Exactitud: >> 0.969 (0.011)\n",
            "G-mean: >> 0.725 (0.108)\n",
            "\n",
            "EN\n",
            "Exactitud: >> 0.968 (0.010)\n",
            "G-mean: >> 0.694 (0.112)\n",
            "\n",
            "kNN\n",
            "Exactitud: >> 0.966 (0.005)\n",
            "G-mean: >> 0.464 (0.204)\n",
            "\n"
          ]
        },
        {
          "output_type": "stream",
          "name": "stderr",
          "text": [
            "<ipython-input-85-0db74e03d2d4>:62: MatplotlibDeprecationWarning: The 'labels' parameter of boxplot() has been renamed 'tick_labels' since Matplotlib 3.9; support for the old name will be dropped in 3.11.\n",
            "  plt.boxplot(resultados1, labels=nombres,  showmeans=True)\n"
          ]
        },
        {
          "output_type": "display_data",
          "data": {
            "text/plain": [
              "<Figure size 640x480 with 1 Axes>"
            ],
            "image/png": "[encoded data removed]"
          },
          "metadata": {}
        },
        {
          "output_type": "stream",
          "name": "stderr",
          "text": [
            "<ipython-input-85-0db74e03d2d4>:66: MatplotlibDeprecationWarning: The 'labels' parameter of boxplot() has been renamed 'tick_labels' since Matplotlib 3.9; support for the old name will be dropped in 3.11.\n",
            "  plt.boxplot(resultados2, labels=nombres,  showmeans=True)\n"
          ]
        },
        {
          "output_type": "display_data",
          "data": {
            "text/plain": [
              "<Figure size 640x480 with 1 Axes>"
            ],
            "image/png": "[encoded data removed]"
          },
          "metadata": {}
        }
      ]
    },
    {
      "cell_type": "markdown",
      "source": [
        "# **Ejercicio-2**"
      ],
      "metadata": {
        "id": "oniRBS-jHjrR"
      }
    },
    {
      "cell_type": "markdown",
      "source": [
        "### **Explica por qué la salida y gráficos anteriores nos ayudan a respaldar la decisión de usar la métrica G-mean, en lugar de la exactitud (accuracy) en este problema:**\n",
        "\n",
        "**+++++++++++ Inicia sección para agregar texto ++++++++++++++++**\n",
        "\n",
        "\n",
        "\n",
        "A pesar de que exactitud pareciera tener mejor valores de salida, se tiene que considerar que la variable de salida (y) tiene clases desbalanceadas. En este sentido, la exactitud solo parece ser mejor por mostrar la relación de conteos correctos (VP y FP) respecto al total de predicciones sin considerar el desempeño del modelo y su distribución de clases, lo cual se logra con g-mean y lo hace considerando la sensibilidad (conteo de VP sobre el total de VP mas FP) y especificidad (conteo de VN sobre el total de VN mas FN).\n",
        "\n",
        "\n",
        "\n",
        "\n",
        "**+++++++++++ Termina sección para agregar texto ++++++++++++++**"
      ],
      "metadata": {
        "id": "3iY_XZjcHjoJ"
      }
    },
    {
      "cell_type": "markdown",
      "source": [
        "# **Ejercicio-3**"
      ],
      "metadata": {
        "id": "b3Mnv-MgIrQ8"
      }
    },
    {
      "cell_type": "markdown",
      "source": [
        "### **Utilizando en adelante solamente la métrica G-mean y de manera análoga al código de la celda llamada \"Código-2\" anterior, define una función llamada \"mis_modelos2()\" y utilízala para definir los mismos modelos de regresión logística, pero incluyendo el argumento class_weight='balanced'. Los demás hiperparámetros los puedes variar si así lo consideras adecuado. Incluye kNN, aunque no tiene argumento para balanceo de las clases de salida.**"
      ],
      "metadata": {
        "id": "irQWKhDvIwV1"
      }
    },
    {
      "cell_type": "code",
      "source": [
        "#  Casos balancedos con hiperparámetro de Regresión Logística:\n",
        "\n",
        "# ++++++++++ Inicia sección para agregar tu código ++++++++++++++++++++++++\n",
        "\n",
        "# Código-2:\n",
        "# G-mean\n",
        "\n",
        "def mis_modelos2():\n",
        "  modelos, nombres = list(), list()\n",
        "\n",
        "  modelos.append(LogisticRegression(penalty=None,\n",
        "                                    max_iter=2000,\n",
        "                                    class_weight='balanced',\n",
        "                                    random_state=1))\n",
        "  nombres.append('LR')\n",
        "\n",
        "\n",
        "  modelos.append(LogisticRegression(penalty='l1',\n",
        "                                    solver='liblinear',\n",
        "                                    max_iter=2000,\n",
        "                                    class_weight='balanced',\n",
        "                                    random_state=1))\n",
        "  nombres.append('LASSO')\n",
        "\n",
        "\n",
        "  modelos.append(LogisticRegression(penalty='l2',\n",
        "                                    max_iter=2000,\n",
        "                                    class_weight='balanced',\n",
        "                                    random_state=1))\n",
        "  nombres.append('RIDGE')\n",
        "\n",
        "  modelos.append(LogisticRegression(penalty='elasticnet',\n",
        "                                    l1_ratio=0.5,\n",
        "                                    class_weight='balanced',\n",
        "                                    solver='saga',\n",
        "                                    max_iter=5000,\n",
        "                                    random_state=1))\n",
        "  nombres.append('EN')\n",
        "\n",
        "  modelos.append(KNeighborsClassifier(n_neighbors=5))\n",
        "  nombres.append('kNN')\n",
        "\n",
        "  return modelos, nombres\n",
        "\n",
        "modelos, nombres2 = mis_modelos2()\n",
        "resultados2 = list()\n",
        "print('Resultados de Validación:')\n",
        "\n",
        "for i in range(len(modelos)):\n",
        "\n",
        "  pipeline = Pipeline(steps=[('ct',columnasTransformer),('m',modelos[i])])\n",
        "  cv1 = RepeatedStratifiedKFold(n_splits=5, n_repeats=3, random_state=1)\n",
        "  scores = cross_validate(pipeline,\n",
        "                          Xtv,\n",
        "                          np.ravel(ytv),\n",
        "                          scoring={'m_geo':mi_metrica},\n",
        "                          cv=cv1)\n",
        "\n",
        "  resultados2.append(scores['test_m_geo'])\n",
        "\n",
        "  print(nombres[i])\n",
        "  print('G-mean: >> %.3f (%.3f)' % (np.nanmean(scores['test_m_geo']), np.nanstd(scores['test_m_geo'])))\n",
        "  print()\n",
        "\n",
        "# ++++++++++ Termina sección para agregar tu código ++++++++++++++++++++++++\n",
        "\n",
        "\n",
        "plt.boxplot(resultados2, labels=nombres2,  showmeans=True)   # gráficos de caja para una comparación visual de los resultados.\n",
        "plt.title(\"G-mean\")\n",
        "plt.show()"
      ],
      "metadata": {
        "id": "HUf2t741nyt2",
        "colab": {
          "base_uri": "https://localhost:8080/",
          "height": 764
        },
        "outputId": "8bcb173f-b7af-414b-fe20-7993b706ad0d"
      },
      "execution_count": 86,
      "outputs": [
        {
          "output_type": "stream",
          "name": "stdout",
          "text": [
            "Resultados de Validación:\n",
            "LR\n",
            "G-mean: >> 0.742 (0.085)\n",
            "\n",
            "LASSO\n",
            "G-mean: >> 0.867 (0.071)\n",
            "\n",
            "RIDGE\n",
            "G-mean: >> 0.867 (0.072)\n",
            "\n",
            "EN\n",
            "G-mean: >> 0.871 (0.076)\n",
            "\n",
            "kNN\n",
            "G-mean: >> 0.480 (0.114)\n",
            "\n"
          ]
        },
        {
          "output_type": "stream",
          "name": "stderr",
          "text": [
            "<ipython-input-86-982e8e6ceaac>:68: MatplotlibDeprecationWarning: The 'labels' parameter of boxplot() has been renamed 'tick_labels' since Matplotlib 3.9; support for the old name will be dropped in 3.11.\n",
            "  plt.boxplot(resultados2, labels=nombres2,  showmeans=True)   # gráficos de caja para una comparación visual de los resultados.\n"
          ]
        },
        {
          "output_type": "display_data",
          "data": {
            "text/plain": [
              "<Figure size 640x480 with 1 Axes>"
            ],
            "image/png": "[encoded data removed]"
          },
          "metadata": {}
        }
      ]
    },
    {
      "cell_type": "markdown",
      "source": [
        "# **Ejercicio-4**"
      ],
      "metadata": {
        "id": "iPlq5JpJLapH"
      }
    },
    {
      "cell_type": "markdown",
      "source": [
        "### **4a) Selecciona el que consideres sea el mejor modelo encontrado hasta ahora y utilízalo para obtener los gráficos curva-ROC y curva-PR, así como los valores de sus áreas bajo la curva. Sigue utilizando los conjuntos de entrenamiento y validación.**\n",
        "\n"
      ],
      "metadata": {
        "id": "murO16hvMYiQ"
      }
    },
    {
      "cell_type": "code",
      "source": [
        "# **+++++++++++ Inicia sección para agregar código ++++++++++++++++**\n",
        "# NOTA: puedes agregar todas las celdas que consideres adecuado.\n",
        "\n",
        "# +++++++++ Inicia sección para incluir tu código ++++++++++++++++++++++++\n",
        "\n",
        "modelo = LogisticRegression(penalty='elasticnet',l1_ratio=0.5,solver='saga',class_weight='balanced', max_iter=5000, random_state=1)\n",
        "\n",
        "dicc_grid = {'C':[i/10 for i in range(1,5)]\n",
        "             }\n",
        "\n",
        "cv = RepeatedStratifiedKFold(n_splits=5, n_repeats=4, random_state=1)\n",
        "\n",
        "grid = GridSearchCV(estimator=modelo,\n",
        "                    param_grid=dicc_grid,\n",
        "                    cv=cv,\n",
        "                    scoring=mi_metrica,\n",
        "                    n_jobs=-1,\n",
        "                    return_train_score=True\n",
        "                    )\n",
        "\n",
        "Xx = columnasTransformer.fit_transform(Xtv)\n",
        "\n",
        "grid_result = grid.fit(Xx, np.ravel(ytv))\n",
        "\n",
        "#mejor_modelo = None\n",
        "\n",
        "\n",
        "# +++++++++ Termina sección para incluir tu código ++++++++++++++++++++++++\n",
        "\n",
        "print(\"Mejor modelo: %f usando %s\" % (grid_result.best_score_, grid_result.best_params_))\n",
        "print('Promedios Train mean(std): %.4f(%.4f)' % (np.nanmean(grid_result.cv_results_['mean_train_score']),\n",
        "                                                 np.nanmean(grid_result.cv_results_['std_train_score'])))\n",
        "print('Promedios Val mean(std): %.4f(%.4f)' % (grid_result.cv_results_['mean_test_score'].mean(),\n",
        "                                               grid_result.cv_results_['std_test_score'].mean()))\n",
        "\n",
        "\n",
        "\n",
        "# **+++++++++++ Termina sección para agregar código ++++++++++++++**"
      ],
      "metadata": {
        "id": "kKtqYkkRMLA_",
        "colab": {
          "base_uri": "https://localhost:8080/"
        },
        "outputId": "d72af621-4f4d-4f0c-e86a-2533bf81694d"
      },
      "execution_count": 95,
      "outputs": [
        {
          "output_type": "stream",
          "name": "stdout",
          "text": [
            "Mejor modelo: 0.872123 usando {'C': 0.4}\n",
            "Promedios Train mean(std): 0.9412(0.0156)\n",
            "Promedios Val mean(std): 0.8631(0.0739)\n"
          ]
        }
      ]
    },
    {
      "cell_type": "code",
      "source": [
        "#Obtención de matriz de confución\n",
        "modelo_mejor = LogisticRegression(penalty='elasticnet',\n",
        "                                  max_iter=5000,\n",
        "                                  l1_ratio=0.5,\n",
        "                                  solver='saga',\n",
        "                                  class_weight='balanced',\n",
        "                                  C=0.4,\n",
        "                                  random_state=1)\n",
        "\n",
        "Xx = columnasTransformer.fit_transform(Xtv)\n",
        "\n",
        "mejor_result = modelo_mejor.fit(Xx, np.ravel(ytv))\n",
        "\n",
        "ConfusionMatrixDisplay.from_estimator(mejor_result, Xx, np.ravel(ytv))\n",
        "plt.show()"
      ],
      "metadata": {
        "colab": {
          "base_uri": "https://localhost:8080/",
          "height": 449
        },
        "id": "_qD9RoV1XoHt",
        "outputId": "450be61f-daa8-42e1-eb6c-fe9781cf77ac"
      },
      "execution_count": 88,
      "outputs": [
        {
          "output_type": "display_data",
          "data": {
            "text/plain": [
              "<Figure size 640x480 with 2 Axes>"
            ],
            "image/png": "[encoded data removed]"
          },
          "metadata": {}
        }
      ]
    },
    {
      "cell_type": "code",
      "source": [
        "RocCurveDisplay.from_estimator(modelo_mejor, Xx, ytv)  # curva ROC con métrica AUC\n",
        "plt.plot([0,0,1,0],[0,1,1,0], 'y--')                     # tríangulo de referencia\n",
        "plt.show()"
      ],
      "metadata": {
        "colab": {
          "base_uri": "https://localhost:8080/",
          "height": 451
        },
        "id": "7ipydnIXAahx",
        "outputId": "672f242d-6e78-4f5a-fa0e-0a5cb30c74f2"
      },
      "execution_count": 89,
      "outputs": [
        {
          "output_type": "display_data",
          "data": {
            "text/plain": [
              "<Figure size 640x480 with 1 Axes>"
            ],
            "image/png": "[encoded data removed]"
          },
          "metadata": {}
        }
      ]
    },
    {
      "cell_type": "code",
      "source": [
        "tasa_positiva = ytv.sum() / len(ytv)\n",
        "PrecisionRecallDisplay.from_estimator(modelo_mejor, Xx, ytv,  name=\"Logistic None\")\n",
        "plt.plot([0,1,1,0],[tasa_positiva,tasa_positiva,1,1], 'y--')\n",
        "plt.legend(loc=\"upper right\")\n",
        "plt.show()"
      ],
      "metadata": {
        "colab": {
          "base_uri": "https://localhost:8080/",
          "height": 451
        },
        "id": "zMhLOXwVCkT6",
        "outputId": "48f62d2e-65de-43c0-e0b5-a91d98674b3c"
      },
      "execution_count": 90,
      "outputs": [
        {
          "output_type": "display_data",
          "data": {
            "text/plain": [
              "<Figure size 640x480 with 1 Axes>"
            ],
            "image/png": "[encoded data removed]"
          },
          "metadata": {}
        }
      ]
    },
    {
      "cell_type": "markdown",
      "source": [
        "### **4b) Incluye tus conclusiones de los gráficos obtenidos en el inciso anterior.**\n",
        "\n",
        "**+++++++++++ Inicia sección para agregar texto ++++++++++++++++**\n",
        "\n",
        "\n",
        "\n",
        "Dado que tenemos un problema con variables de salida desbalanceadas, el ROC arroja resultados de un modelo muy optimista debido a la poca cantidad de la clase positiva. Por lo tanto, no es confiable y en este caso debemos usar la curva PR.\n",
        "\n",
        "\n",
        "\n",
        "\n",
        "**+++++++++++ Termina sección para agregar texto ++++++++++++++**"
      ],
      "metadata": {
        "id": "K8VUJWwVNTDs"
      }
    },
    {
      "cell_type": "markdown",
      "source": [
        "# **Ejercicio-5**"
      ],
      "metadata": {
        "id": "gM7YCsaSN04w"
      }
    },
    {
      "cell_type": "markdown",
      "source": [
        "### **Utiliza el conjunto de prueba (test) para evaluar el mejor modelo obtenido.**"
      ],
      "metadata": {
        "id": "7XAyYmBXN4TS"
      }
    },
    {
      "cell_type": "code",
      "source": [
        "# **+++++++++++ Inicia sección para agregar código ++++++++++++++++**\n",
        "# NOTA: puedes agregar todas las celdas que consideres adecuado.\n",
        "\n",
        "\n",
        "\n",
        "modelo_mejor.score(columnasTransformer.transform(Xtest), ytest)\n",
        "\n",
        "\n",
        "\n",
        "# **+++++++++++ Termina sección para agregar código ++++++++++++++**"
      ],
      "metadata": {
        "id": "XGBLeDqXMK6v",
        "colab": {
          "base_uri": "https://localhost:8080/"
        },
        "outputId": "4352c95d-f804-43b5-9bfd-fcdbcbff4eef"
      },
      "execution_count": 91,
      "outputs": [
        {
          "output_type": "execute_result",
          "data": {
            "text/plain": [
              "0.8849557522123894"
            ]
          },
          "metadata": {},
          "execution_count": 91
        }
      ]
    },
    {
      "cell_type": "code",
      "source": [
        "RocCurveDisplay.from_estimator(modelo_mejor, columnasTransformer.transform(Xtest), ytest)  # curva ROC con métrica AUC\n",
        "plt.plot([0,0,1,0],[0,1,1,0], 'y--')                     # tríangulo de referencia\n",
        "plt.show()"
      ],
      "metadata": {
        "colab": {
          "base_uri": "https://localhost:8080/",
          "height": 451
        },
        "id": "80BCD4ecEOtT",
        "outputId": "492f2266-d439-4a3f-d264-44f6b73f0973"
      },
      "execution_count": 92,
      "outputs": [
        {
          "output_type": "display_data",
          "data": {
            "text/plain": [
              "<Figure size 640x480 with 1 Axes>"
            ],
            "image/png": "[encoded data removed]"
          },
          "metadata": {}
        }
      ]
    },
    {
      "cell_type": "code",
      "source": [
        "tasa_positiva = ytest.sum() / len(ytest)\n",
        "PrecisionRecallDisplay.from_estimator(modelo_mejor, columnasTransformer.transform(Xtest), ytest,  name=\"Logistic None\")\n",
        "plt.plot([0,1,1,0],[tasa_positiva,tasa_positiva,1,1], 'y--')\n",
        "plt.legend(loc=\"upper right\")\n",
        "plt.show()"
      ],
      "metadata": {
        "colab": {
          "base_uri": "https://localhost:8080/",
          "height": 451
        },
        "id": "twwuSeSAEX6c",
        "outputId": "f2e12e5a-d9e2-45be-cc23-d05fc8b59fa5"
      },
      "execution_count": 93,
      "outputs": [
        {
          "output_type": "display_data",
          "data": {
            "text/plain": [
              "<Figure size 640x480 with 1 Axes>"
            ],
            "image/png": "[encoded data removed]"
          },
          "metadata": {}
        }
      ]
    },
    {
      "cell_type": "code",
      "source": [
        "ConfusionMatrixDisplay.from_estimator(mejor_result, columnasTransformer.transform(Xtest), ytest)"
      ],
      "metadata": {
        "colab": {
          "base_uri": "https://localhost:8080/",
          "height": 466
        },
        "id": "pkltFILNtMX1",
        "outputId": "915c4edc-2106-40f0-88b3-5fcae45cd76b"
      },
      "execution_count": 94,
      "outputs": [
        {
          "output_type": "execute_result",
          "data": {
            "text/plain": [
              "<sklearn.metrics._plot.confusion_matrix.ConfusionMatrixDisplay at 0x78d292aea4d0>"
            ]
          },
          "metadata": {},
          "execution_count": 94
        },
        {
          "output_type": "display_data",
          "data": {
            "text/plain": [
              "<Figure size 640x480 with 2 Axes>"
            ],
            "image/png": "[encoded data removed]"
          },
          "metadata": {}
        }
      ]
    },
    {
      "cell_type": "markdown",
      "source": [
        "# **Ejercicio-6**"
      ],
      "metadata": {
        "id": "8dDsNoQHOXDY"
      }
    },
    {
      "cell_type": "markdown",
      "source": [
        "### **Incluye tus conclusiones finales de los resultados obtenidos y de la actividad en general.**\n",
        "\n",
        "**+++++++++++ Inicia sección para agregar texto ++++++++++++++++**\n",
        "\n",
        "\n",
        "\n",
        "Se observó el contraste entre ROC y PR, de igual manera entre metricas (en este caso exactitud y g-mean) en un caso de clases desbalanceadas y la manera en la que se puede interpretar los resultados para conseguir el mejor modelo posible sin caer en casos de modelos \"perfectos\" que serán incapaces de funcionar adecuadamente debido la falta de consideraciones en los sesgos de las variables de salida.\n",
        "\n",
        "\n",
        "\n",
        "\n",
        "**+++++++++++ Termina sección para agregar texto ++++++++++++++**"
      ],
      "metadata": {
        "id": "nPxU2S7LOWxI"
      }
    },
    {
      "cell_type": "markdown",
      "source": [
        "## **<<< Fin de la Actividad de la Semana - curvas ROC y PR >>>**"
      ],
      "metadata": {
        "id": "Z-A1PvcZOuRt"
      }
    }
  ]
}