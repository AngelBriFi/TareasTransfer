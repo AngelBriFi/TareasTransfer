{
  "cells": [
    {
      "cell_type": "markdown",
      "source": [
        "**MAESTRÍA EN INTELIGENCIA ARTIFICIAL APLICADA**\n",
        "\n",
        "**Curso: TC4029 - Ciencia y analítica de datos**\n",
        "\n",
        "Tecnológico de Monterrey\n",
        "\n",
        "Prof Grettel Barceló Alonso\n",
        "\n",
        "**Semana 8**\n",
        "Regresión Lineal\n",
        "\n",
        "---"
      ],
      "metadata": {
        "id": "zZeKeQlF-0tP"
      }
    },
    {
      "cell_type": "markdown",
      "source": [
        "*   NOMBRE: ---------------------------------------------------------\n",
        "*   MATRÍCULA: ----------------------------------------------------"
      ],
      "metadata": {
        "id": "_jPAgA5K_Atl"
      }
    },
    {
      "cell_type": "code",
      "source": [
        "from google.colab import drive\n",
        "drive.mount('/content/drive')"
      ],
      "metadata": {
        "id": "QElz-qw8_Aa7"
      },
      "execution_count": null,
      "outputs": []
    },
    {
      "cell_type": "code",
      "source": [
        "import os\n",
        "DIR = \"/content/drive/MyDrive/Colab Notebooks/MNA/TC4029 - Ciencia y analítica de datos/Semana 8/Actividad8_RLineal\"\n",
        "os.chdir(DIR)"
      ],
      "metadata": {
        "id": "KYozDMGz_EzL"
      },
      "execution_count": null,
      "outputs": []
    },
    {
      "cell_type": "code",
      "source": [
        "import pandas as pd\n",
        "import numpy as np\n",
        "import matplotlib.pyplot as plt\n",
        "import seaborn as sns"
      ],
      "metadata": {
        "id": "wMArpaFx_Mbd"
      },
      "execution_count": null,
      "outputs": []
    },
    {
      "cell_type": "code",
      "source": [
        "insurance_df = pd.read_csv('insurance.csv')\n",
        "insurance_df"
      ],
      "metadata": {
        "id": "jenoVKNN_OhH"
      },
      "execution_count": null,
      "outputs": []
    },
    {
      "cell_type": "markdown",
      "source": [
        "# **Parte 1**. EDA"
      ],
      "metadata": {
        "id": "VYwGAFlVgYCp"
      }
    },
    {
      "cell_type": "markdown",
      "source": [
        "Efectúa una exploración inicial de los datos a través de:\n",
        "\n",
        "1a) Estadísticas descriptivas para todas las variables del dataframe."
      ],
      "metadata": {
        "id": "OPfTGSQBgw5C"
      }
    },
    {
      "cell_type": "code",
      "source": [
        "display(insurance_df.describe())\n",
        "insurance_df.select_dtypes(include=object).describe()"
      ],
      "metadata": {
        "id": "wiRn9BXQlagU"
      },
      "execution_count": null,
      "outputs": []
    },
    {
      "cell_type": "markdown",
      "source": [
        "1b) Búsqueda de valores faltantes."
      ],
      "metadata": {
        "id": "EOo8M9uqQahu"
      }
    },
    {
      "cell_type": "code",
      "source": [
        "insurance_df.isnull().mean()*100"
      ],
      "metadata": {
        "id": "yFLsn2zKlb_V"
      },
      "execution_count": null,
      "outputs": []
    },
    {
      "cell_type": "markdown",
      "source": [
        "1c) Histrogramas y boxplots para las variables cuantitativas y diagramas de barras con la frecuencia para las variables categóricas."
      ],
      "metadata": {
        "id": "HRDq4NY5QgRy"
      }
    },
    {
      "cell_type": "code",
      "source": [
        "#Cuantitativos\n",
        "columnas = insurance_df.select_dtypes(exclude=object).columns\n",
        "plt.figure(figsize=(15, 5))\n",
        "for i, col in enumerate(columnas, 1):\n",
        "    plt.subplot(1, 4, i)\n",
        "    sns.boxplot(x=insurance_df[col])\n",
        "    plt.title(f\"Boxplot de {col}\")\n",
        "    plt.xlabel(col)\n",
        "plt.tight_layout()"
      ],
      "metadata": {
        "id": "m8HEk1-3lkcv"
      },
      "execution_count": null,
      "outputs": []
    },
    {
      "cell_type": "code",
      "source": [
        "insurance_df['sex'].index"
      ],
      "metadata": {
        "id": "SpEuodprnorp"
      },
      "execution_count": null,
      "outputs": []
    },
    {
      "cell_type": "code",
      "source": [
        "#Cualitativos\n",
        "columnas = insurance_df.select_dtypes(include=object).columns\n",
        "plt.figure(figsize=(15, 5))\n",
        "for i, col in enumerate(columnas, 1):\n",
        "    plt.subplot(1, 4, i)\n",
        "    sns.barplot(insurance_df,x=insurance_df[col],y=insurance_df[col].count(), estimator=\"sum\",errorbar=None)\n",
        "    plt.title(f\"Diagrama de barra de {col}\")\n",
        "    plt.xlabel(col)\n",
        "plt.tight_layout()"
      ],
      "metadata": {
        "id": "jdK-JZjIa1_Q"
      },
      "execution_count": null,
      "outputs": []
    },
    {
      "cell_type": "markdown",
      "source": [
        "Para responder los siguientes cuestionamientos, genera los gráficos indicados:\n",
        "\n",
        "2a) ¿Hay diferencias significativas de las primas según el sexo? Compara la distribución de la variable `charges` por medio de un boxplot."
      ],
      "metadata": {
        "id": "IctCTEc-Qk2X"
      }
    },
    {
      "cell_type": "code",
      "source": [
        "plt.figure(figsize=(15, 5))\n",
        "sns.boxplot(insurance_df,x=insurance_df['charges'],y=insurance_df['sex'])"
      ],
      "metadata": {
        "id": "C6Sbs-aJlm0o"
      },
      "execution_count": null,
      "outputs": []
    },
    {
      "cell_type": "markdown",
      "source": [
        "2b) Crea un diagrama de dispersión de `charges` versus el `bmi` que incorpore la distinción por las categorías `smoker` y `children` (tip: utiliza el parámetro `size`) ¿Hay alguna conclusión importante que se derive del gráfico?"
      ],
      "metadata": {
        "id": "LuO8F3YFQ9zr"
      }
    },
    {
      "cell_type": "code",
      "source": [
        "sns.scatterplot(insurance_df,x=insurance_df['charges'],y=insurance_df['bmi'],size=insurance_df['smoker'])\n"
      ],
      "metadata": {
        "id": "8OI17Eo9lnuP"
      },
      "execution_count": null,
      "outputs": []
    },
    {
      "cell_type": "markdown",
      "source": [
        "2c) Elabora un mapa de calor que muestre la correlación de las variables numéricas."
      ],
      "metadata": {
        "id": "BWsqaT90hajY"
      }
    },
    {
      "cell_type": "code",
      "source": [
        "sns.heatmap(insurance_df.select_dtypes(exclude=object).corr())"
      ],
      "metadata": {
        "id": "ro3wM76ilpR3"
      },
      "execution_count": null,
      "outputs": []
    },
    {
      "cell_type": "markdown",
      "source": [
        "Obtén un dataframe con las observaciones que tengan valores atípicos en `charges`.\n",
        "\n",
        "3a) ¿Cuál es el promedio de `age` y de `bmi` en el dataframe de valores atípicos obtenido?"
      ],
      "metadata": {
        "id": "itJ9anNUiTE5"
      }
    },
    {
      "cell_type": "code",
      "source": [
        "l = insurance_df['charges'].quantile(0.25)\n",
        "h = insurance_df['charges'].quantile(0.75)\n",
        "iqr = h - l\n",
        "ll = iqr - 1.5*iqr\n",
        "hl = iqr + 1.5*iqr\n",
        "\n",
        "atCharge_df = pd.DataFrame(insurance_df[(insurance_df['charges'] < ll) | (insurance_df['charges'] > hl)])\n",
        "print('Promedio edad:',atCharge_df.age.mean(), 'y bmi:',atCharge_df.bmi.mean())"
      ],
      "metadata": {
        "id": "R4w9YZH7lwYE"
      },
      "execution_count": null,
      "outputs": []
    },
    {
      "cell_type": "markdown",
      "source": [
        "3b) ¿Qué porcentaje de estas observaciones (en el dataframe de valores atípicos obtenidos) se corresponden a mujeres y a hombres? ¿A fumadores y no fumadores?"
      ],
      "metadata": {
        "id": "WSKay4rTRV8v"
      }
    },
    {
      "cell_type": "code",
      "source": [
        "display(atCharge_df.sex.value_counts()/atCharge_df.shape[0]*100)\n",
        "atCharge_df.smoker.value_counts()/atCharge_df.shape[0]*100"
      ],
      "metadata": {
        "id": "z2e76xs0lxpe"
      },
      "execution_count": null,
      "outputs": []
    },
    {
      "cell_type": "markdown",
      "source": [
        "# **Parte 2**. Preprocesamiento"
      ],
      "metadata": {
        "id": "9X7ZSwcQufZA"
      }
    },
    {
      "cell_type": "code",
      "source": [
        "atCharge_df.info()"
      ],
      "metadata": {
        "id": "KgCSUq31jc0t"
      },
      "execution_count": null,
      "outputs": []
    },
    {
      "cell_type": "markdown",
      "source": [
        "4. Separa las variables del dataframe: en `X` coloca los predictores y en `y` la variable de respuesta o salida (`charges`)."
      ],
      "metadata": {
        "id": "diNsw0rORerT"
      }
    },
    {
      "cell_type": "code",
      "source": [
        "x = atCharge_df.drop(columns='charges')\n",
        "y = atCharge_df.charges"
      ],
      "metadata": {
        "id": "bcslwsJXlzGj"
      },
      "execution_count": null,
      "outputs": []
    },
    {
      "cell_type": "markdown",
      "source": [
        "5. Divide el conjunto en entrenamiento y prueba (80:20) considerando:\n",
        "\n",
        "\n",
        "*   El parámetro `random_state` con el valor de 1 para garantizar reproducibilidad.\n",
        "*   Analiza los diagramas de barras obtenidos en el ejercicio 1c. Con los resultados observados, es conveniente usar la variable `smoker` en la estrategia de estratificación.\n",
        "*   Como ya tienes separadas en `X` e `y` los predictores y salida, consulta cómo ejecutar la función `train_test_split()` para obtener `Xtrain, Xtest, ytrain, ytest` en una única instrucción."
      ],
      "metadata": {
        "id": "lY1trwwuRku3"
      }
    },
    {
      "cell_type": "code",
      "source": [
        "from sklearn.model_selection import train_test_split\n",
        "Xtrain, Xtest, ytrain, ytest = train_test_split(x, y, test_size = 0.8, random_state=1)"
      ],
      "metadata": {
        "id": "JfdNqaQLl06A"
      },
      "execution_count": null,
      "outputs": []
    },
    {
      "cell_type": "markdown",
      "source": [
        "6. Prepara un transformador, denominado `preprocessing`, para aplicar escalamiento *MinMax* a los predictores numéricos y codificación *one-hot* a los categóricas."
      ],
      "metadata": {
        "id": "z0mSLgjORzWM"
      }
    },
    {
      "cell_type": "code",
      "source": [
        "from sklearn.base import BaseEstimator, TransformerMixin\n",
        "from sklearn.preprocessing import OneHotEncoder, MinMaxScaler\n",
        "\n",
        "class Preprocessing(BaseEstimator, TransformerMixin):\n",
        "  def __init__(self, df : pd.DataFrame):\n",
        "     self.numData = df.select_dtypes(exclude=object)\n",
        "     self.objData = df.select_dtypes(exclude=np.number)\n",
        "\n",
        "  def fit(self):\n",
        "    self.fitMinMax = MinMaxScaler.fit(self.numData)\n",
        "    self.fitOneHot = OneHotEncoder.fit(self.objData)\n",
        "    return self\n",
        "\n",
        "  def transform(self):\n",
        "    self.transMinMax = MinMaxScaler.fit(self.fitMinMax)\n",
        "    self.transOneHot = OneHotEncoder.fit(self.fitOneHot)\n",
        "    return self\n",
        "# scaler = MinMaxScaler()\n",
        "# ohe = OneHotEncoder(sparse_output=False,drop='first')\n",
        "# x_sc = scaler.fit_transform(x.select_dtypes(exclude=object))\n",
        "# x_ohe = ohe.fit_transform(x.select_dtypes(include=object))\n",
        "preprocessing = make_pipeline(\n",
        "    MinMaxScaler(),\n",
        "    OneHotEncoder(handle_unknown=\"ignore\"))"
      ],
      "metadata": {
        "id": "5_XKpyC_l2VI"
      },
      "execution_count": 2,
      "outputs": []
    },
    {
      "cell_type": "markdown",
      "source": [
        "# **Parte 3**. Entrenando y evaluando el modelo de RL"
      ],
      "metadata": {
        "id": "YzI5IbM6umNN"
      }
    },
    {
      "cell_type": "markdown",
      "source": [
        "7. Ejecuta un pipeline con el transformador creado y el algoritmo de regresión lineal para entrenar un modelo denominado `lr_model`.\n",
        "\n",
        "Evalúa el modelo en el conjunto de prueba y obtén la raíz del error cuadrático medio (`RMSE`) y la métrica `R` cuadrado ($R^2$). Aunque ésta última la estudiarás a detalle la próxima semana, ahora sólo debes saber que toma valores entre 0 y 1, donde 1 indica un ajuste perfecto y, por tanto, un modelo muy fiable para las previsiones futuras. La función de scikit-learn que determina esta métrica es: [`r2_score`](https://scikit-learn.org/stable/modules/generated/sklearn.metrics.r2_score.html)"
      ],
      "metadata": {
        "id": "GnILmC37R9LB"
      }
    },
    {
      "cell_type": "code",
      "source": [
        "from sklearn.pipeline import make_pipeline\n",
        "from sklearn.linear_model import LinearRegression\n",
        "from sklearn.metrics import r2_score, root_mean_squared_error\n",
        "\n",
        "lr_model = LinearRegression()\n"
      ],
      "metadata": {
        "id": "fiTfBHrpl32t"
      },
      "execution_count": null,
      "outputs": []
    },
    {
      "cell_type": "markdown",
      "source": [
        "**Valora el rendimiento del modelo con los siguientes cambios:**\n"
      ],
      "metadata": {
        "id": "mHd9OsaWvKCW"
      }
    },
    {
      "cell_type": "markdown",
      "source": [
        "8. Reemplaza los outliers de `charges` con el límite superior (`Q3 + 1.5 * IQR`). Haz el cambio en ambos conjuntos: `ytrain` y `ytest`, previo a la aplicación del mismo pipeline. Guarda el modelo como `lr_model2`.\n"
      ],
      "metadata": {
        "id": "ofLuNl2dSOj7"
      }
    },
    {
      "cell_type": "code",
      "source": [],
      "metadata": {
        "id": "cEX4Ca-Ul9Km"
      },
      "execution_count": null,
      "outputs": []
    },
    {
      "cell_type": "markdown",
      "source": [
        "9. Prepara otro transformador, denominado `preprocessing2`, para aplicar escalamiento estándar a los predictores numéricos y codificación ordinal a los categóricas. Aplícalo en un nuevo pipeline utilizando nuevamente regresión lineal. Guarda el modelo como `lr_model3`.\n",
        "\n",
        "**Nota.** Los cambios se ejecutan de manera consecutiva, por ejemplo: el reemplazo de los outliers también se ejecuta previo al transformador `preprocessing2` y así sucesivamente."
      ],
      "metadata": {
        "id": "uoftj1YeSTOD"
      }
    },
    {
      "cell_type": "code",
      "source": [],
      "metadata": {
        "id": "AAEBv_-8l--H"
      },
      "execution_count": null,
      "outputs": []
    },
    {
      "cell_type": "markdown",
      "source": [
        "10. Utiliza regresión polinomial para verificar si se produce un mejor ajuste. Intenta con varios grados, aunque debes dejar en el código sólo el de mejor rendimiento. Guarda el modelo como `lr_model4`."
      ],
      "metadata": {
        "id": "1F30ukQSSW--"
      }
    },
    {
      "cell_type": "code",
      "source": [],
      "metadata": {
        "id": "oW2WCLTTmAEL"
      },
      "execution_count": null,
      "outputs": []
    }
  ],
  "metadata": {
    "colab": {
      "provenance": []
    },
    "kernelspec": {
      "display_name": "Python 3 (ipykernel)",
      "language": "python",
      "name": "python3"
    },
    "language_info": {
      "codemirror_mode": {
        "name": "ipython",
        "version": 3
      },
      "file_extension": ".py",
      "mimetype": "text/x-python",
      "name": "python",
      "nbconvert_exporter": "python",
      "pygments_lexer": "ipython3",
      "version": "3.9.5"
    }
  },
  "nbformat": 4,
  "nbformat_minor": 0
}