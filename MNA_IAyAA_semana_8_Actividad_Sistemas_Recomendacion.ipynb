{
  "cells": [
    {
      "cell_type": "markdown",
      "metadata": {
        "id": "VFj0sSM06dYa"
      },
      "source": [
        "## **Maestría en Inteligencia Artificial Aplicada**\n",
        "### **Curso: Inteligencia Artificial y Aprendizaje Automático**\n",
        "#### Tecnológico de Monterrey\n",
        "#### Prof Luis Eduardo Falcón Morales\n",
        "\n",
        "### **Adtividad de la Semana 8**\n",
        "#### **Reducción de Dimensionalidad - Descomposición en Valores Singulares (SVD) y Sistemas de Recomendación**\n"
      ]
    },
    {
      "cell_type": "markdown",
      "metadata": {
        "id": "Qgrvy0RGB9XI"
      },
      "source": [
        "**Esta Actividad deberás resolverla de manera individual.**\n",
        "\n",
        "**Nombre y matrícula:**\n",
        "\n",
        "*   \n",
        "*   \n"
      ]
    },
    {
      "cell_type": "code",
      "execution_count": 1,
      "metadata": {
        "id": "exXsscs-Dh-2",
        "outputId": "a7e9894f-6b80-4630-9656-8a2d1da31cae",
        "colab": {
          "base_uri": "https://localhost:8080/"
        }
      },
      "outputs": [
        {
          "output_type": "stream",
          "name": "stdout",
          "text": [
            "Mounted at /content/drive\n"
          ]
        }
      ],
      "source": [
        "# Incluye aquí todas las librerías y paquetes que requieras.\n",
        "from google.colab import drive\n",
        "import pandas as pd\n",
        "import numpy as np\n",
        "from sklearn.decomposition import TruncatedSVD\n",
        "\n",
        "drive.mount('/content/drive')\n"
      ]
    },
    {
      "cell_type": "markdown",
      "metadata": {
        "id": "8LCCGOCnB20k"
      },
      "source": [
        "### **Liga de Datos de la UCI \"Restaurant & consumer data\".**\n",
        "### **Descarga el archivo \"restaurant+consumer+data.zip\" y de ahí necesitaremos los archivos \"rating_final.csv\" y \"geoplaces2.csv\".**\n",
        "\n",
        "https://archive.ics.uci.edu/dataset/232/restaurant+consumer+data\n",
        "\n"
      ]
    },
    {
      "cell_type": "code",
      "execution_count": null,
      "metadata": {
        "id": "3nU2GuWYCy6C"
      },
      "outputs": [],
      "source": [
        "# Descarga los archivos de la página de la UCI a partir de los cuales generaremos\n",
        "# nuestras matrices de utilidad.\n",
        "\n",
        "data1 = pd.read_csv(\"rating_final.csv\", header='infer', sep=\",\")\n",
        "data2 = pd.read_csv(\"geoplaces2.csv\", header='infer',  encoding='latin-1')\n",
        "\n",
        "print(data1.shape, data2.shape)\n"
      ]
    },
    {
      "cell_type": "markdown",
      "metadata": {
        "id": "exf8AgSgAYIe"
      },
      "source": [
        "**NOTA: Recuerda que cada vez que se te pida incluir líneas de código, podrás incluir 1 o más líneas, pero siempre en la sección donde se te indica hacerlo.**"
      ]
    },
    {
      "cell_type": "markdown",
      "metadata": {
        "id": "9ejOXFX0wRbr"
      },
      "source": [
        "## **Ejercicio - 1**"
      ]
    },
    {
      "cell_type": "markdown",
      "metadata": {
        "id": "SXZCu8d24qhg"
      },
      "source": [
        "### **Explica cuál es el propósito de usar el argumento \"latin-1\" al cargar el segundo archivo.**"
      ]
    },
    {
      "cell_type": "markdown",
      "metadata": {
        "id": "QnVxVjpd5Ulw"
      },
      "source": [
        "++++++++ Inicia la sección de agregar texto: +++++++++++\n",
        "\n",
        "\n",
        "++++++++ Termina la sección de agregar texto. +++++++++++"
      ]
    },
    {
      "cell_type": "code",
      "execution_count": null,
      "metadata": {
        "id": "0ulkqXVGCy97"
      },
      "outputs": [],
      "source": [
        "# Del primer archivo obtenemos una matriz con 3 evaluaciones de los restaurantes:\n",
        "# general, comida y servicio.\n",
        "# Las evaluaciones pueden ser 0, 1 o 2, siendo 0 la menor calificación y 2 la\n",
        "# mayor calificación:\n",
        "\n",
        "data1.head()"
      ]
    },
    {
      "cell_type": "code",
      "execution_count": null,
      "metadata": {
        "id": "y1n23keFiUQg"
      },
      "outputs": [],
      "source": [
        "# Del segundo archivo obtenemos información diversa de cada restaurante:\n",
        "\n",
        "data2.head(2)"
      ]
    },
    {
      "cell_type": "code",
      "execution_count": null,
      "metadata": {
        "id": "RGgNAUyv2Vqp"
      },
      "outputs": [],
      "source": [
        "# De data1 no requeriremos \"rating\" y de data2 solo necesitamos \"placeID\" y \"name\":\n",
        "# Definimos la lista y matrices con los factores que necesitamos:\n",
        "\n",
        "lista_data1 = ['userID','placeID','food_rating','service_rating']\n",
        "lista_data2 = ['placeID','name']\n",
        "\n",
        "data1a = data1[lista_data1]\n",
        "data2a = data2[lista_data2]"
      ]
    },
    {
      "cell_type": "markdown",
      "metadata": {
        "id": "rr3hJTCW6c05"
      },
      "source": [
        "## **Ejercicio - 2**"
      ]
    },
    {
      "cell_type": "code",
      "execution_count": null,
      "metadata": {
        "id": "Y3jwhxfdjMWh"
      },
      "outputs": [],
      "source": [
        "# Define el DataFrame que conjunte la información de las dos DataFrame data1a\n",
        "# y data2a en uno solo, a través de la columna común \"placeID\" y que\n",
        "# llamaremos \"df_combinado\":\n",
        "\n",
        "\n",
        "\n",
        "# ************* Inlcuye aquí tu código:*****************************\n",
        "\n",
        "\n",
        "df_combinado = None\n",
        "\n",
        "\n",
        "# *********** Aquí termina la sección de agregar código *************\n",
        "\n",
        "\n",
        "# Despleguemos la dimensión y los primeros renglones de este DataFrame:\n",
        "\n",
        "print(df_combinado.shape)\n",
        "df_combinado.head()"
      ]
    },
    {
      "cell_type": "markdown",
      "metadata": {
        "id": "2EyK_O7EHBWe"
      },
      "source": [
        "## **Ejercicio - 3**"
      ]
    },
    {
      "cell_type": "code",
      "execution_count": null,
      "metadata": {
        "id": "p6J7eDI-oTeH"
      },
      "outputs": [],
      "source": [
        "#    Define la matriz de utilidad cuyos renglones sean los nombres de los\n",
        "#    restaurantes, las columnas los IDs de los usuarios y las entradas la\n",
        "#    evaluación de la comida (food_rating). La llamaremos \"UtMx_food\".\n",
        "\n",
        "\n",
        "# ************* Inlcuye aquí tu código:*****************************\n",
        "\n",
        "\n",
        "UtMx_food = None\n",
        "\n",
        "\n",
        "# *********** Aquí termina la sección de agregar código *************\n",
        "\n",
        "\n",
        "print('Dimensión de la matriz de Utilidad sobre la evaluación de la comida:')\n",
        "print('(restaurantes, usuarios) =', (UtMx_food.shape))\n",
        "UtMx_food.head()"
      ]
    },
    {
      "cell_type": "markdown",
      "metadata": {
        "id": "U7A0SrQjS0ft"
      },
      "source": [
        "## **Ejercicio - 4**"
      ]
    },
    {
      "cell_type": "markdown",
      "metadata": {
        "id": "xGu3qv-T8XGH"
      },
      "source": [
        "### **En la Factorización SVD la cantidad de valores singulares será menor o igual al menor valor de los renglones o columnas de la matriz de utilidad UtMx.**\n",
        "\n",
        "### **La factorización SVD de una matriz $A$ tiene la forma:**\n",
        "\n",
        "$A_{m\\times n} = U_{m\\times m}\\Sigma_{m\\times n}V_{n\\times n}^T$"
      ]
    },
    {
      "cell_type": "code",
      "execution_count": null,
      "metadata": {
        "id": "jg6ofJ7kTD3d"
      },
      "outputs": [],
      "source": [
        "# a. Aplica la transformación SVD para obtener la matriz de las variables\n",
        "#    latentes de los restaurantes, en relación a la manera en que los usuarios\n",
        "#    evaluaron la comida. Deberás obtener la factorización SVD con el máximo número\n",
        "#    de componentes y por lo tanto el máximo de valores singulares posibles de acuerdo\n",
        "#    a este criterio. Así, de acuerdo al resultado obtenido en el Ejercicio-3, asigna\n",
        "#    a la variable \"nc_food\" el número entero adecuado para llegar a obtener el\n",
        "#    resultado pedido.\n",
        "\n",
        "\n",
        "# ************* Inlcuye aquí tu código:**********************************************\n",
        "\n",
        "\n",
        "nc_food = None     # número de componentes\n",
        "\n",
        "\n",
        "# *********** Aquí termina la sección de agregar código *****************************\n",
        "\n",
        "print('Total de valores singulares basados en evaluación de la comida:', nc_food)"
      ]
    },
    {
      "cell_type": "code",
      "execution_count": null,
      "metadata": {
        "id": "v6T_Bo8mAYIi"
      },
      "outputs": [],
      "source": [
        "# b. Lleva a cabo la factorización SVD truncada en la matriz de utilidad\n",
        "#    obtenida previamente y con respecto al número de componentes dada\n",
        "#    por la variable nc_food.\n",
        "\n",
        "\n",
        "# ************* Inlcuye aquí tu código:********************************\n",
        "\n",
        "\n",
        "SVD_food = None\n",
        "\n",
        "\n",
        "# *********** Aquí termina la sección de agregar código ***************\n",
        "\n",
        "\n",
        "# Con la factorización SVD truncada obtenida, determinemos la cantidad\n",
        "# de componentes que explican un 90% de la variabilidad acumulada de\n",
        "# cada componente:\n",
        "\n",
        "for j in range(nc_food):\n",
        "  if SVD_food.explained_variance_ratio_[0:j].sum() > 0.90:\n",
        "    break\n",
        "\n",
        "# Usaremos esta cantidad de componentes para las recomendaciones basadas\n",
        "# en la calificación de la comida:\n",
        "N_food = j-1\n",
        "\n",
        "\n",
        "print('Valor de truncamiento al 90% de dicha variabilidad:', N_food)"
      ]
    },
    {
      "cell_type": "code",
      "execution_count": null,
      "metadata": {
        "id": "GSfNl3_PQE04"
      },
      "outputs": [],
      "source": [
        "# Usando la métrica de correlación de Pearson, obtenemos ahora las 10 mejores\n",
        "# recomendaciones de este modelo no supervisado con base a la información de\n",
        "# alguien que desea obtener las similitudes con el \"Restaurante Pueblo Bonito\"\n",
        "# y con la cota de truncamiento obtenido en el ejercicio anterior.\n",
        "# Para ello obtenemos las 10 mejores correlaciones positivas a continuación.\n",
        "\n",
        "# Factorización SVD:\n",
        "SVD_food = TruncatedSVD(n_components = N_food)\n",
        "resultant_matrix_food = SVD_food.fit_transform(UtMx_food)\n",
        "\n",
        "# Matriz de correlación de Pearson:\n",
        "corr_mat_food = np.corrcoef(resultant_matrix_food)\n",
        "\n",
        "# Restaurante de referencia:\n",
        "restaurante_de_referencia = \"Restaurante Pueblo Bonito\"\n",
        "nombres_rest = UtMx_food.T.columns  # nombres de restaurantes\n",
        "idx_rest = list(nombres_rest).index(restaurante_de_referencia)\n",
        "corr_rest = corr_mat_food[idx_rest] # Vector de Correlación del RinconHuasteco\n",
        "\n",
        "# Buscando las correlaciones positivas:\n",
        "idx = (corr_rest>0)\n",
        "mejores_sim_food = list()\n",
        "for i in range(len(nombres_rest[idx])):\n",
        "  mejores_sim_food.append((corr_rest[idx][i], nombres_rest[idx][i]))\n",
        "\n",
        "print('Total de similaridades positivas encontradas:', len(mejores_sim_food))\n",
        "\n",
        "print('Algunos de los resultados encontrados:')\n",
        "mejores_sim_food[0:5]"
      ]
    },
    {
      "cell_type": "markdown",
      "metadata": {
        "id": "PACH7ewoQTqB"
      },
      "source": [
        "## **Ejercicio - 5**"
      ]
    },
    {
      "cell_type": "code",
      "execution_count": null,
      "metadata": {
        "id": "r_hUSvhCmoNN"
      },
      "outputs": [],
      "source": [
        "# Ordenar la lista de recomendaciones \"mejores_sim_food\" encontrada en el paso\n",
        "# anterior de manera descendente. Llamaremos \"mejores_sim_food_ordenadas\" a\n",
        "# dicha lista.\n",
        "\n",
        "# ************* Inlcuye aquí tu código:*****************************\n",
        "\n",
        "\n",
        "\n",
        "mejores_sim_food_ordenadas = None\n",
        "\n",
        "\n",
        "\n",
        "# *********** Aquí termina la sección de agregar código *************\n",
        "\n",
        "\n",
        "# Desplegamos las 10 mejores similitudes encontradas de manera descendente:\n",
        "print('Similitudes con base a la evaluación de la comida con mayores valores de correlación:')\n",
        "for k in range(1,11):\n",
        "  print('%d> %s' % (k, mejores_sim_food_ordenadas[k]))"
      ]
    },
    {
      "cell_type": "markdown",
      "metadata": {
        "id": "PT5isyp0oYlU"
      },
      "source": [
        "## **Ejercicio - 6**"
      ]
    },
    {
      "cell_type": "markdown",
      "metadata": {
        "id": "7LMYEENSp4hm"
      },
      "source": [
        "### **De manera análoga y usando ahora la evaluación de un restaurante con respecto a su servicio (service_rating), encuentra ahora los diez restaurantes con mayor similaridad al mismo restaurante anterior llamado \"Restaurante Pueblo Bonito\" y con respecto también a la misma métrica de similaridad de Pearson.**\n",
        "\n",
        "### **Deberás usar la cantidad de componentes necesarias para que la varabilidad de la factorización SVD quede explicada en un 90%.**\n",
        "\n",
        "### **a.  Para ello define primero la matriz de utilidad, UtMx_service, donde los renglones son los nombres de los restaurantes, las columnas los usuarios y las entradas las evaluaciones con respecto al servicio recibido en el restaurante.**\n",
        "\n",
        "\n",
        "\n"
      ]
    },
    {
      "cell_type": "code",
      "execution_count": null,
      "metadata": {
        "id": "a5KhqmczKxK2"
      },
      "outputs": [],
      "source": [
        "# a. Define la matriz de utilidad cuyos renglones sean los nombres de los\n",
        "#    restaurantes, las columnas los IDs de los usuarios y las entradas la\n",
        "#    evaluación del servicio (service_rating). La llamaremos \"UtMx_service\".\n",
        "\n",
        "\n",
        "# ************* Inlcuye aquí tu código:*****************************\n",
        "\n",
        "\n",
        "UtMx_service = None\n",
        "\n",
        "\n",
        "# *********** Aquí termina la sección de agregar código *************\n",
        "\n",
        "\n",
        "\n",
        "\n",
        "print('Dimensión de la matriz de Utilidad sobre la evaluación del servicio:')\n",
        "print('(restaurantes, usuarios) =', (UtMx_service.shape))\n",
        "UtMx_service.head()"
      ]
    },
    {
      "cell_type": "code",
      "execution_count": null,
      "metadata": {
        "id": "M8AuZVGxn3fo"
      },
      "outputs": [],
      "source": [
        "# b. Incluye el código necesario para obtener y desplegar los 10 restaurantes con\n",
        "#    mayor similaridad de Pearson al \"Restaurante Pueblo Bonito\", y usando solo\n",
        "#    el 90% de las componentes que explican la varianza de la matriz UtMx_service.\n",
        "#    Desplegarlos en orden descendente, sin incliur el restaurante de referencia.\n",
        "\n",
        "# ************* Inlcuye aquí tu código:*****************************\n",
        "\n",
        "\n",
        "None    # Incluye todas las líneas de código o celdas que requieras.\n",
        "\n",
        "\n",
        "# *********** Aquí termina la sección de agregar código *************"
      ]
    },
    {
      "cell_type": "markdown",
      "metadata": {
        "id": "ZJvi3WLR0zKY"
      },
      "source": [
        "## **Ejercicio - 7**"
      ]
    },
    {
      "cell_type": "markdown",
      "metadata": {
        "id": "IAPKgBzD14By"
      },
      "source": [
        "### **Incluye tus comentarios y conclusiones de la actividad. En particular indica cuáles restaurantes encontraste con correlaciones altas tanto para la calificación de la comida, como del servicio.**"
      ]
    },
    {
      "cell_type": "markdown",
      "metadata": {
        "id": "vtOMmDZeBBwg"
      },
      "source": [
        "++++++++ Inicia la sección de agregar texto: +++++++++++\n",
        "\n",
        "\n",
        "++++++++ Termina la sección de agregar texto. +++++++++++"
      ]
    },
    {
      "cell_type": "markdown",
      "metadata": {
        "id": "N2rZwkmlAofg"
      },
      "source": [
        ">> **Fin de la Actividad de Sistemas de Recomendación**"
      ]
    }
  ],
  "metadata": {
    "colab": {
      "provenance": []
    },
    "kernelspec": {
      "display_name": "Python 3 (ipykernel)",
      "language": "python",
      "name": "python3"
    },
    "language_info": {
      "codemirror_mode": {
        "name": "ipython",
        "version": 3
      },
      "file_extension": ".py",
      "mimetype": "text/x-python",
      "name": "python",
      "nbconvert_exporter": "python",
      "pygments_lexer": "ipython3",
      "version": "3.9.13"
    }
  },
  "nbformat": 4,
  "nbformat_minor": 0
}