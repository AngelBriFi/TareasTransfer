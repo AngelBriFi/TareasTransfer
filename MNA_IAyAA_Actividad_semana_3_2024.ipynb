{
  "cells": [
    {
      "cell_type": "markdown",
      "source": [
        "# **Maestría en Inteligencia Artificial Aplicada**\n",
        "\n",
        "## **Curso: Inteligencia Artificial y Aprendizaje Automático**\n",
        "\n",
        "**Tecnológico de Monterrey**\n",
        "\n",
        "Prof Luis Eduardo Falcón Morales\n",
        "\n",
        "Actividad de Semana 3 - Septiembre 2024\n",
        "\n",
        "**Rotación de Personal - IBM**"
      ],
      "metadata": {
        "id": "hWEMLj5wrcMV"
      },
      "id": "hWEMLj5wrcMV"
    },
    {
      "cell_type": "markdown",
      "source": [
        "#### **Nombre y matrícula: Angel Irwin Briseño Fierro - A01796844**"
      ],
      "metadata": {
        "id": "6PudVOn2rv9-"
      },
      "id": "6PudVOn2rv9-"
    },
    {
      "cell_type": "markdown",
      "source": [
        "#### **La siguiente actividad se basa en los datos del archivo \"WA_Fn-UseC_-HR-Employee-Attrition.csv\" que se encuentra en la siguiente liga de Kaggle, llamada \"IBM HR Analytics Employee Attrition & Performance\":**\n",
        "\n",
        "https://www.kaggle.com/datasets/pavansubhasht/ibm-hr-analytics-attrition-dataset\n"
      ],
      "metadata": {
        "id": "zHrHylCFqr7R"
      },
      "id": "zHrHylCFqr7R"
    },
    {
      "cell_type": "code",
      "execution_count": 10,
      "id": "72533da4",
      "metadata": {
        "id": "72533da4",
        "colab": {
          "base_uri": "https://localhost:8080/"
        },
        "outputId": "b484976f-0987-4d5f-946c-ec61209af570"
      },
      "outputs": [
        {
          "output_type": "stream",
          "name": "stdout",
          "text": [
            "Drive already mounted at /content/drive; to attempt to forcibly remount, call drive.mount(\"/content/drive\", force_remount=True).\n"
          ]
        }
      ],
      "source": [
        "# Incluye aquí todas las librerías que consideres necesarias:\n",
        "from google.colab import drive\n",
        "drive.mount('/content/drive')\n",
        "import pandas as pd\n",
        "import numpy as np\n",
        "import kagglehub\n",
        "from kagglehub import KaggleDatasetAdapter\n",
        "from sklearn.model_selection import train_test_split\n",
        "from sklearn.preprocessing import LabelEncoder\n",
        "from sklearn.pipeline import Pipeline\n",
        "from sklearn.compose import ColumnTransformer\n",
        "from sklearn.linear_model import LogisticRegression\n",
        "from sklearn.neighbors import KNeighborsClassifier"
      ]
    },
    {
      "cell_type": "markdown",
      "id": "ac09ecaf",
      "metadata": {
        "id": "ac09ecaf"
      },
      "source": [
        "# **Ejercicio 1:**"
      ]
    },
    {
      "cell_type": "markdown",
      "source": [
        "#### **Incluye una breve introducción sobre lo que se entiende por el problema de rotación de personal en las organizaciones (employee attrition problem).**"
      ],
      "metadata": {
        "id": "T_-hoJgWpWbt"
      },
      "id": "T_-hoJgWpWbt"
    },
    {
      "cell_type": "markdown",
      "source": [
        "++++++++ Inicia la sección de agregar texto: ++++++++++++\n",
        "\n",
        "\n",
        "None\n",
        "\n",
        "\n",
        "++++++++ Termina la sección de agregar texto. +++++++++++"
      ],
      "metadata": {
        "id": "LfSb-scypfrX"
      },
      "id": "LfSb-scypfrX"
    },
    {
      "cell_type": "markdown",
      "source": [
        "# **Ejercicio 2:**"
      ],
      "metadata": {
        "id": "_FN5RwbGpz0c"
      },
      "id": "_FN5RwbGpz0c"
    },
    {
      "cell_type": "markdown",
      "source": [
        "#### **Carga los datos del archivo de la página de Kaggle indicada como un DataFrame de Pandas, llamado \"df\" y utilicemos el método “describe” con el argumento include= “all”, para obtener una primera descripción general de cada variable.**"
      ],
      "metadata": {
        "id": "Yybnk8vKqEfS"
      },
      "id": "Yybnk8vKqEfS"
    },
    {
      "cell_type": "code",
      "execution_count": 11,
      "id": "0b4db5cd",
      "metadata": {
        "id": "0b4db5cd",
        "colab": {
          "base_uri": "https://localhost:8080/",
          "height": 1000
        },
        "outputId": "11f36765-1383-4cf6-a726-8bca6fe879e2"
      },
      "outputs": [
        {
          "output_type": "stream",
          "name": "stdout",
          "text": [
            "Tamaño del DataFrame: (1470, 35)\n"
          ]
        },
        {
          "output_type": "execute_result",
          "data": {
            "text/plain": [
              "                           count unique                     top  freq  \\\n",
              "Age                       1470.0    NaN                     NaN   NaN   \n",
              "Attrition                   1470      2                      No  1233   \n",
              "BusinessTravel              1470      3           Travel_Rarely  1043   \n",
              "DailyRate                 1470.0    NaN                     NaN   NaN   \n",
              "Department                  1470      3  Research & Development   961   \n",
              "DistanceFromHome          1470.0    NaN                     NaN   NaN   \n",
              "Education                 1470.0    NaN                     NaN   NaN   \n",
              "EducationField              1470      6           Life Sciences   606   \n",
              "EmployeeCount             1470.0    NaN                     NaN   NaN   \n",
              "EmployeeNumber            1470.0    NaN                     NaN   NaN   \n",
              "EnvironmentSatisfaction   1470.0    NaN                     NaN   NaN   \n",
              "Gender                      1470      2                    Male   882   \n",
              "HourlyRate                1470.0    NaN                     NaN   NaN   \n",
              "JobInvolvement            1470.0    NaN                     NaN   NaN   \n",
              "JobLevel                  1470.0    NaN                     NaN   NaN   \n",
              "JobRole                     1470      9         Sales Executive   326   \n",
              "JobSatisfaction           1470.0    NaN                     NaN   NaN   \n",
              "MaritalStatus               1470      3                 Married   673   \n",
              "MonthlyIncome             1470.0    NaN                     NaN   NaN   \n",
              "MonthlyRate               1470.0    NaN                     NaN   NaN   \n",
              "NumCompaniesWorked        1470.0    NaN                     NaN   NaN   \n",
              "Over18                      1470      1                       Y  1470   \n",
              "OverTime                    1470      2                      No  1054   \n",
              "PercentSalaryHike         1470.0    NaN                     NaN   NaN   \n",
              "PerformanceRating         1470.0    NaN                     NaN   NaN   \n",
              "RelationshipSatisfaction  1470.0    NaN                     NaN   NaN   \n",
              "StandardHours             1470.0    NaN                     NaN   NaN   \n",
              "StockOptionLevel          1470.0    NaN                     NaN   NaN   \n",
              "TotalWorkingYears         1470.0    NaN                     NaN   NaN   \n",
              "TrainingTimesLastYear     1470.0    NaN                     NaN   NaN   \n",
              "WorkLifeBalance           1470.0    NaN                     NaN   NaN   \n",
              "YearsAtCompany            1470.0    NaN                     NaN   NaN   \n",
              "YearsInCurrentRole        1470.0    NaN                     NaN   NaN   \n",
              "YearsSinceLastPromotion   1470.0    NaN                     NaN   NaN   \n",
              "YearsWithCurrManager      1470.0    NaN                     NaN   NaN   \n",
              "\n",
              "                                  mean          std     min     25%      50%  \\\n",
              "Age                           36.92381     9.135373    18.0    30.0     36.0   \n",
              "Attrition                          NaN          NaN     NaN     NaN      NaN   \n",
              "BusinessTravel                     NaN          NaN     NaN     NaN      NaN   \n",
              "DailyRate                   802.485714     403.5091   102.0   465.0    802.0   \n",
              "Department                         NaN          NaN     NaN     NaN      NaN   \n",
              "DistanceFromHome              9.192517     8.106864     1.0     2.0      7.0   \n",
              "Education                     2.912925     1.024165     1.0     2.0      3.0   \n",
              "EducationField                     NaN          NaN     NaN     NaN      NaN   \n",
              "EmployeeCount                      1.0          0.0     1.0     1.0      1.0   \n",
              "EmployeeNumber             1024.865306   602.024335     1.0  491.25   1020.5   \n",
              "EnvironmentSatisfaction       2.721769     1.093082     1.0     2.0      3.0   \n",
              "Gender                             NaN          NaN     NaN     NaN      NaN   \n",
              "HourlyRate                   65.891156    20.329428    30.0    48.0     66.0   \n",
              "JobInvolvement                2.729932     0.711561     1.0     2.0      3.0   \n",
              "JobLevel                      2.063946      1.10694     1.0     1.0      2.0   \n",
              "JobRole                            NaN          NaN     NaN     NaN      NaN   \n",
              "JobSatisfaction               2.728571     1.102846     1.0     2.0      3.0   \n",
              "MaritalStatus                      NaN          NaN     NaN     NaN      NaN   \n",
              "MonthlyIncome              6502.931293  4707.956783  1009.0  2911.0   4919.0   \n",
              "MonthlyRate               14313.103401  7117.786044  2094.0  8047.0  14235.5   \n",
              "NumCompaniesWorked            2.693197     2.498009     0.0     1.0      2.0   \n",
              "Over18                             NaN          NaN     NaN     NaN      NaN   \n",
              "OverTime                           NaN          NaN     NaN     NaN      NaN   \n",
              "PercentSalaryHike            15.209524     3.659938    11.0    12.0     14.0   \n",
              "PerformanceRating             3.153741     0.360824     3.0     3.0      3.0   \n",
              "RelationshipSatisfaction      2.712245     1.081209     1.0     2.0      3.0   \n",
              "StandardHours                     80.0          0.0    80.0    80.0     80.0   \n",
              "StockOptionLevel              0.793878     0.852077     0.0     0.0      1.0   \n",
              "TotalWorkingYears            11.279592     7.780782     0.0     6.0     10.0   \n",
              "TrainingTimesLastYear          2.79932     1.289271     0.0     2.0      3.0   \n",
              "WorkLifeBalance               2.761224     0.706476     1.0     2.0      3.0   \n",
              "YearsAtCompany                7.008163     6.126525     0.0     3.0      5.0   \n",
              "YearsInCurrentRole            4.229252     3.623137     0.0     2.0      3.0   \n",
              "YearsSinceLastPromotion       2.187755      3.22243     0.0     0.0      1.0   \n",
              "YearsWithCurrManager          4.123129     3.568136     0.0     2.0      3.0   \n",
              "\n",
              "                              75%      max  \n",
              "Age                          43.0     60.0  \n",
              "Attrition                     NaN      NaN  \n",
              "BusinessTravel                NaN      NaN  \n",
              "DailyRate                  1157.0   1499.0  \n",
              "Department                    NaN      NaN  \n",
              "DistanceFromHome             14.0     29.0  \n",
              "Education                     4.0      5.0  \n",
              "EducationField                NaN      NaN  \n",
              "EmployeeCount                 1.0      1.0  \n",
              "EmployeeNumber            1555.75   2068.0  \n",
              "EnvironmentSatisfaction       4.0      4.0  \n",
              "Gender                        NaN      NaN  \n",
              "HourlyRate                  83.75    100.0  \n",
              "JobInvolvement                3.0      4.0  \n",
              "JobLevel                      3.0      5.0  \n",
              "JobRole                       NaN      NaN  \n",
              "JobSatisfaction               4.0      4.0  \n",
              "MaritalStatus                 NaN      NaN  \n",
              "MonthlyIncome              8379.0  19999.0  \n",
              "MonthlyRate               20461.5  26999.0  \n",
              "NumCompaniesWorked            4.0      9.0  \n",
              "Over18                        NaN      NaN  \n",
              "OverTime                      NaN      NaN  \n",
              "PercentSalaryHike            18.0     25.0  \n",
              "PerformanceRating             3.0      4.0  \n",
              "RelationshipSatisfaction      4.0      4.0  \n",
              "StandardHours                80.0     80.0  \n",
              "StockOptionLevel              1.0      3.0  \n",
              "TotalWorkingYears            15.0     40.0  \n",
              "TrainingTimesLastYear         3.0      6.0  \n",
              "WorkLifeBalance               3.0      4.0  \n",
              "YearsAtCompany                9.0     40.0  \n",
              "YearsInCurrentRole            7.0     18.0  \n",
              "YearsSinceLastPromotion       3.0     15.0  \n",
              "YearsWithCurrManager          7.0     17.0  "
            ],
            "text/html": [
              "\n",
              "  <div id=\"df-019f088b-da2d-4db8-adbd-1043cb386220\" class=\"colab-df-container\">\n",
              "    <div>\n",
              "<style scoped>\n",
              "    .dataframe tbody tr th:only-of-type {\n",
              "        vertical-align: middle;\n",
              "    }\n",
              "\n",
              "    .dataframe tbody tr th {\n",
              "        vertical-align: top;\n",
              "    }\n",
              "\n",
              "    .dataframe thead th {\n",
              "        text-align: right;\n",
              "    }\n",
              "</style>\n",
              "<table border=\"1\" class=\"dataframe\">\n",
              "  <thead>\n",
              "    <tr style=\"text-align: right;\">\n",
              "      <th></th>\n",
              "      <th>count</th>\n",
              "      <th>unique</th>\n",
              "      <th>top</th>\n",
              "      <th>freq</th>\n",
              "      <th>mean</th>\n",
              "      <th>std</th>\n",
              "      <th>min</th>\n",
              "      <th>25%</th>\n",
              "      <th>50%</th>\n",
              "      <th>75%</th>\n",
              "      <th>max</th>\n",
              "    </tr>\n",
              "  </thead>\n",
              "  <tbody>\n",
              "    <tr>\n",
              "      <th>Age</th>\n",
              "      <td>1470.0</td>\n",
              "      <td>NaN</td>\n",
              "      <td>NaN</td>\n",
              "      <td>NaN</td>\n",
              "      <td>36.92381</td>\n",
              "      <td>9.135373</td>\n",
              "      <td>18.0</td>\n",
              "      <td>30.0</td>\n",
              "      <td>36.0</td>\n",
              "      <td>43.0</td>\n",
              "      <td>60.0</td>\n",
              "    </tr>\n",
              "    <tr>\n",
              "      <th>Attrition</th>\n",
              "      <td>1470</td>\n",
              "      <td>2</td>\n",
              "      <td>No</td>\n",
              "      <td>1233</td>\n",
              "      <td>NaN</td>\n",
              "      <td>NaN</td>\n",
              "      <td>NaN</td>\n",
              "      <td>NaN</td>\n",
              "      <td>NaN</td>\n",
              "      <td>NaN</td>\n",
              "      <td>NaN</td>\n",
              "    </tr>\n",
              "    <tr>\n",
              "      <th>BusinessTravel</th>\n",
              "      <td>1470</td>\n",
              "      <td>3</td>\n",
              "      <td>Travel_Rarely</td>\n",
              "      <td>1043</td>\n",
              "      <td>NaN</td>\n",
              "      <td>NaN</td>\n",
              "      <td>NaN</td>\n",
              "      <td>NaN</td>\n",
              "      <td>NaN</td>\n",
              "      <td>NaN</td>\n",
              "      <td>NaN</td>\n",
              "    </tr>\n",
              "    <tr>\n",
              "      <th>DailyRate</th>\n",
              "      <td>1470.0</td>\n",
              "      <td>NaN</td>\n",
              "      <td>NaN</td>\n",
              "      <td>NaN</td>\n",
              "      <td>802.485714</td>\n",
              "      <td>403.5091</td>\n",
              "      <td>102.0</td>\n",
              "      <td>465.0</td>\n",
              "      <td>802.0</td>\n",
              "      <td>1157.0</td>\n",
              "      <td>1499.0</td>\n",
              "    </tr>\n",
              "    <tr>\n",
              "      <th>Department</th>\n",
              "      <td>1470</td>\n",
              "      <td>3</td>\n",
              "      <td>Research &amp; Development</td>\n",
              "      <td>961</td>\n",
              "      <td>NaN</td>\n",
              "      <td>NaN</td>\n",
              "      <td>NaN</td>\n",
              "      <td>NaN</td>\n",
              "      <td>NaN</td>\n",
              "      <td>NaN</td>\n",
              "      <td>NaN</td>\n",
              "    </tr>\n",
              "    <tr>\n",
              "      <th>DistanceFromHome</th>\n",
              "      <td>1470.0</td>\n",
              "      <td>NaN</td>\n",
              "      <td>NaN</td>\n",
              "      <td>NaN</td>\n",
              "      <td>9.192517</td>\n",
              "      <td>8.106864</td>\n",
              "      <td>1.0</td>\n",
              "      <td>2.0</td>\n",
              "      <td>7.0</td>\n",
              "      <td>14.0</td>\n",
              "      <td>29.0</td>\n",
              "    </tr>\n",
              "    <tr>\n",
              "      <th>Education</th>\n",
              "      <td>1470.0</td>\n",
              "      <td>NaN</td>\n",
              "      <td>NaN</td>\n",
              "      <td>NaN</td>\n",
              "      <td>2.912925</td>\n",
              "      <td>1.024165</td>\n",
              "      <td>1.0</td>\n",
              "      <td>2.0</td>\n",
              "      <td>3.0</td>\n",
              "      <td>4.0</td>\n",
              "      <td>5.0</td>\n",
              "    </tr>\n",
              "    <tr>\n",
              "      <th>EducationField</th>\n",
              "      <td>1470</td>\n",
              "      <td>6</td>\n",
              "      <td>Life Sciences</td>\n",
              "      <td>606</td>\n",
              "      <td>NaN</td>\n",
              "      <td>NaN</td>\n",
              "      <td>NaN</td>\n",
              "      <td>NaN</td>\n",
              "      <td>NaN</td>\n",
              "      <td>NaN</td>\n",
              "      <td>NaN</td>\n",
              "    </tr>\n",
              "    <tr>\n",
              "      <th>EmployeeCount</th>\n",
              "      <td>1470.0</td>\n",
              "      <td>NaN</td>\n",
              "      <td>NaN</td>\n",
              "      <td>NaN</td>\n",
              "      <td>1.0</td>\n",
              "      <td>0.0</td>\n",
              "      <td>1.0</td>\n",
              "      <td>1.0</td>\n",
              "      <td>1.0</td>\n",
              "      <td>1.0</td>\n",
              "      <td>1.0</td>\n",
              "    </tr>\n",
              "    <tr>\n",
              "      <th>EmployeeNumber</th>\n",
              "      <td>1470.0</td>\n",
              "      <td>NaN</td>\n",
              "      <td>NaN</td>\n",
              "      <td>NaN</td>\n",
              "      <td>1024.865306</td>\n",
              "      <td>602.024335</td>\n",
              "      <td>1.0</td>\n",
              "      <td>491.25</td>\n",
              "      <td>1020.5</td>\n",
              "      <td>1555.75</td>\n",
              "      <td>2068.0</td>\n",
              "    </tr>\n",
              "    <tr>\n",
              "      <th>EnvironmentSatisfaction</th>\n",
              "      <td>1470.0</td>\n",
              "      <td>NaN</td>\n",
              "      <td>NaN</td>\n",
              "      <td>NaN</td>\n",
              "      <td>2.721769</td>\n",
              "      <td>1.093082</td>\n",
              "      <td>1.0</td>\n",
              "      <td>2.0</td>\n",
              "      <td>3.0</td>\n",
              "      <td>4.0</td>\n",
              "      <td>4.0</td>\n",
              "    </tr>\n",
              "    <tr>\n",
              "      <th>Gender</th>\n",
              "      <td>1470</td>\n",
              "      <td>2</td>\n",
              "      <td>Male</td>\n",
              "      <td>882</td>\n",
              "      <td>NaN</td>\n",
              "      <td>NaN</td>\n",
              "      <td>NaN</td>\n",
              "      <td>NaN</td>\n",
              "      <td>NaN</td>\n",
              "      <td>NaN</td>\n",
              "      <td>NaN</td>\n",
              "    </tr>\n",
              "    <tr>\n",
              "      <th>HourlyRate</th>\n",
              "      <td>1470.0</td>\n",
              "      <td>NaN</td>\n",
              "      <td>NaN</td>\n",
              "      <td>NaN</td>\n",
              "      <td>65.891156</td>\n",
              "      <td>20.329428</td>\n",
              "      <td>30.0</td>\n",
              "      <td>48.0</td>\n",
              "      <td>66.0</td>\n",
              "      <td>83.75</td>\n",
              "      <td>100.0</td>\n",
              "    </tr>\n",
              "    <tr>\n",
              "      <th>JobInvolvement</th>\n",
              "      <td>1470.0</td>\n",
              "      <td>NaN</td>\n",
              "      <td>NaN</td>\n",
              "      <td>NaN</td>\n",
              "      <td>2.729932</td>\n",
              "      <td>0.711561</td>\n",
              "      <td>1.0</td>\n",
              "      <td>2.0</td>\n",
              "      <td>3.0</td>\n",
              "      <td>3.0</td>\n",
              "      <td>4.0</td>\n",
              "    </tr>\n",
              "    <tr>\n",
              "      <th>JobLevel</th>\n",
              "      <td>1470.0</td>\n",
              "      <td>NaN</td>\n",
              "      <td>NaN</td>\n",
              "      <td>NaN</td>\n",
              "      <td>2.063946</td>\n",
              "      <td>1.10694</td>\n",
              "      <td>1.0</td>\n",
              "      <td>1.0</td>\n",
              "      <td>2.0</td>\n",
              "      <td>3.0</td>\n",
              "      <td>5.0</td>\n",
              "    </tr>\n",
              "    <tr>\n",
              "      <th>JobRole</th>\n",
              "      <td>1470</td>\n",
              "      <td>9</td>\n",
              "      <td>Sales Executive</td>\n",
              "      <td>326</td>\n",
              "      <td>NaN</td>\n",
              "      <td>NaN</td>\n",
              "      <td>NaN</td>\n",
              "      <td>NaN</td>\n",
              "      <td>NaN</td>\n",
              "      <td>NaN</td>\n",
              "      <td>NaN</td>\n",
              "    </tr>\n",
              "    <tr>\n",
              "      <th>JobSatisfaction</th>\n",
              "      <td>1470.0</td>\n",
              "      <td>NaN</td>\n",
              "      <td>NaN</td>\n",
              "      <td>NaN</td>\n",
              "      <td>2.728571</td>\n",
              "      <td>1.102846</td>\n",
              "      <td>1.0</td>\n",
              "      <td>2.0</td>\n",
              "      <td>3.0</td>\n",
              "      <td>4.0</td>\n",
              "      <td>4.0</td>\n",
              "    </tr>\n",
              "    <tr>\n",
              "      <th>MaritalStatus</th>\n",
              "      <td>1470</td>\n",
              "      <td>3</td>\n",
              "      <td>Married</td>\n",
              "      <td>673</td>\n",
              "      <td>NaN</td>\n",
              "      <td>NaN</td>\n",
              "      <td>NaN</td>\n",
              "      <td>NaN</td>\n",
              "      <td>NaN</td>\n",
              "      <td>NaN</td>\n",
              "      <td>NaN</td>\n",
              "    </tr>\n",
              "    <tr>\n",
              "      <th>MonthlyIncome</th>\n",
              "      <td>1470.0</td>\n",
              "      <td>NaN</td>\n",
              "      <td>NaN</td>\n",
              "      <td>NaN</td>\n",
              "      <td>6502.931293</td>\n",
              "      <td>4707.956783</td>\n",
              "      <td>1009.0</td>\n",
              "      <td>2911.0</td>\n",
              "      <td>4919.0</td>\n",
              "      <td>8379.0</td>\n",
              "      <td>19999.0</td>\n",
              "    </tr>\n",
              "    <tr>\n",
              "      <th>MonthlyRate</th>\n",
              "      <td>1470.0</td>\n",
              "      <td>NaN</td>\n",
              "      <td>NaN</td>\n",
              "      <td>NaN</td>\n",
              "      <td>14313.103401</td>\n",
              "      <td>7117.786044</td>\n",
              "      <td>2094.0</td>\n",
              "      <td>8047.0</td>\n",
              "      <td>14235.5</td>\n",
              "      <td>20461.5</td>\n",
              "      <td>26999.0</td>\n",
              "    </tr>\n",
              "    <tr>\n",
              "      <th>NumCompaniesWorked</th>\n",
              "      <td>1470.0</td>\n",
              "      <td>NaN</td>\n",
              "      <td>NaN</td>\n",
              "      <td>NaN</td>\n",
              "      <td>2.693197</td>\n",
              "      <td>2.498009</td>\n",
              "      <td>0.0</td>\n",
              "      <td>1.0</td>\n",
              "      <td>2.0</td>\n",
              "      <td>4.0</td>\n",
              "      <td>9.0</td>\n",
              "    </tr>\n",
              "    <tr>\n",
              "      <th>Over18</th>\n",
              "      <td>1470</td>\n",
              "      <td>1</td>\n",
              "      <td>Y</td>\n",
              "      <td>1470</td>\n",
              "      <td>NaN</td>\n",
              "      <td>NaN</td>\n",
              "      <td>NaN</td>\n",
              "      <td>NaN</td>\n",
              "      <td>NaN</td>\n",
              "      <td>NaN</td>\n",
              "      <td>NaN</td>\n",
              "    </tr>\n",
              "    <tr>\n",
              "      <th>OverTime</th>\n",
              "      <td>1470</td>\n",
              "      <td>2</td>\n",
              "      <td>No</td>\n",
              "      <td>1054</td>\n",
              "      <td>NaN</td>\n",
              "      <td>NaN</td>\n",
              "      <td>NaN</td>\n",
              "      <td>NaN</td>\n",
              "      <td>NaN</td>\n",
              "      <td>NaN</td>\n",
              "      <td>NaN</td>\n",
              "    </tr>\n",
              "    <tr>\n",
              "      <th>PercentSalaryHike</th>\n",
              "      <td>1470.0</td>\n",
              "      <td>NaN</td>\n",
              "      <td>NaN</td>\n",
              "      <td>NaN</td>\n",
              "      <td>15.209524</td>\n",
              "      <td>3.659938</td>\n",
              "      <td>11.0</td>\n",
              "      <td>12.0</td>\n",
              "      <td>14.0</td>\n",
              "      <td>18.0</td>\n",
              "      <td>25.0</td>\n",
              "    </tr>\n",
              "    <tr>\n",
              "      <th>PerformanceRating</th>\n",
              "      <td>1470.0</td>\n",
              "      <td>NaN</td>\n",
              "      <td>NaN</td>\n",
              "      <td>NaN</td>\n",
              "      <td>3.153741</td>\n",
              "      <td>0.360824</td>\n",
              "      <td>3.0</td>\n",
              "      <td>3.0</td>\n",
              "      <td>3.0</td>\n",
              "      <td>3.0</td>\n",
              "      <td>4.0</td>\n",
              "    </tr>\n",
              "    <tr>\n",
              "      <th>RelationshipSatisfaction</th>\n",
              "      <td>1470.0</td>\n",
              "      <td>NaN</td>\n",
              "      <td>NaN</td>\n",
              "      <td>NaN</td>\n",
              "      <td>2.712245</td>\n",
              "      <td>1.081209</td>\n",
              "      <td>1.0</td>\n",
              "      <td>2.0</td>\n",
              "      <td>3.0</td>\n",
              "      <td>4.0</td>\n",
              "      <td>4.0</td>\n",
              "    </tr>\n",
              "    <tr>\n",
              "      <th>StandardHours</th>\n",
              "      <td>1470.0</td>\n",
              "      <td>NaN</td>\n",
              "      <td>NaN</td>\n",
              "      <td>NaN</td>\n",
              "      <td>80.0</td>\n",
              "      <td>0.0</td>\n",
              "      <td>80.0</td>\n",
              "      <td>80.0</td>\n",
              "      <td>80.0</td>\n",
              "      <td>80.0</td>\n",
              "      <td>80.0</td>\n",
              "    </tr>\n",
              "    <tr>\n",
              "      <th>StockOptionLevel</th>\n",
              "      <td>1470.0</td>\n",
              "      <td>NaN</td>\n",
              "      <td>NaN</td>\n",
              "      <td>NaN</td>\n",
              "      <td>0.793878</td>\n",
              "      <td>0.852077</td>\n",
              "      <td>0.0</td>\n",
              "      <td>0.0</td>\n",
              "      <td>1.0</td>\n",
              "      <td>1.0</td>\n",
              "      <td>3.0</td>\n",
              "    </tr>\n",
              "    <tr>\n",
              "      <th>TotalWorkingYears</th>\n",
              "      <td>1470.0</td>\n",
              "      <td>NaN</td>\n",
              "      <td>NaN</td>\n",
              "      <td>NaN</td>\n",
              "      <td>11.279592</td>\n",
              "      <td>7.780782</td>\n",
              "      <td>0.0</td>\n",
              "      <td>6.0</td>\n",
              "      <td>10.0</td>\n",
              "      <td>15.0</td>\n",
              "      <td>40.0</td>\n",
              "    </tr>\n",
              "    <tr>\n",
              "      <th>TrainingTimesLastYear</th>\n",
              "      <td>1470.0</td>\n",
              "      <td>NaN</td>\n",
              "      <td>NaN</td>\n",
              "      <td>NaN</td>\n",
              "      <td>2.79932</td>\n",
              "      <td>1.289271</td>\n",
              "      <td>0.0</td>\n",
              "      <td>2.0</td>\n",
              "      <td>3.0</td>\n",
              "      <td>3.0</td>\n",
              "      <td>6.0</td>\n",
              "    </tr>\n",
              "    <tr>\n",
              "      <th>WorkLifeBalance</th>\n",
              "      <td>1470.0</td>\n",
              "      <td>NaN</td>\n",
              "      <td>NaN</td>\n",
              "      <td>NaN</td>\n",
              "      <td>2.761224</td>\n",
              "      <td>0.706476</td>\n",
              "      <td>1.0</td>\n",
              "      <td>2.0</td>\n",
              "      <td>3.0</td>\n",
              "      <td>3.0</td>\n",
              "      <td>4.0</td>\n",
              "    </tr>\n",
              "    <tr>\n",
              "      <th>YearsAtCompany</th>\n",
              "      <td>1470.0</td>\n",
              "      <td>NaN</td>\n",
              "      <td>NaN</td>\n",
              "      <td>NaN</td>\n",
              "      <td>7.008163</td>\n",
              "      <td>6.126525</td>\n",
              "      <td>0.0</td>\n",
              "      <td>3.0</td>\n",
              "      <td>5.0</td>\n",
              "      <td>9.0</td>\n",
              "      <td>40.0</td>\n",
              "    </tr>\n",
              "    <tr>\n",
              "      <th>YearsInCurrentRole</th>\n",
              "      <td>1470.0</td>\n",
              "      <td>NaN</td>\n",
              "      <td>NaN</td>\n",
              "      <td>NaN</td>\n",
              "      <td>4.229252</td>\n",
              "      <td>3.623137</td>\n",
              "      <td>0.0</td>\n",
              "      <td>2.0</td>\n",
              "      <td>3.0</td>\n",
              "      <td>7.0</td>\n",
              "      <td>18.0</td>\n",
              "    </tr>\n",
              "    <tr>\n",
              "      <th>YearsSinceLastPromotion</th>\n",
              "      <td>1470.0</td>\n",
              "      <td>NaN</td>\n",
              "      <td>NaN</td>\n",
              "      <td>NaN</td>\n",
              "      <td>2.187755</td>\n",
              "      <td>3.22243</td>\n",
              "      <td>0.0</td>\n",
              "      <td>0.0</td>\n",
              "      <td>1.0</td>\n",
              "      <td>3.0</td>\n",
              "      <td>15.0</td>\n",
              "    </tr>\n",
              "    <tr>\n",
              "      <th>YearsWithCurrManager</th>\n",
              "      <td>1470.0</td>\n",
              "      <td>NaN</td>\n",
              "      <td>NaN</td>\n",
              "      <td>NaN</td>\n",
              "      <td>4.123129</td>\n",
              "      <td>3.568136</td>\n",
              "      <td>0.0</td>\n",
              "      <td>2.0</td>\n",
              "      <td>3.0</td>\n",
              "      <td>7.0</td>\n",
              "      <td>17.0</td>\n",
              "    </tr>\n",
              "  </tbody>\n",
              "</table>\n",
              "</div>\n",
              "    <div class=\"colab-df-buttons\">\n",
              "\n",
              "  <div class=\"colab-df-container\">\n",
              "    <button class=\"colab-df-convert\" onclick=\"convertToInteractive('df-019f088b-da2d-4db8-adbd-1043cb386220')\"\n",
              "            title=\"Convert this dataframe to an interactive table.\"\n",
              "            style=\"display:none;\">\n",
              "\n",
              "  <svg xmlns=\"http://www.w3.org/2000/svg\" height=\"24px\" viewBox=\"0 -960 960 960\">\n",
              "    <path d=\"M120-120v-720h720v720H120Zm60-500h600v-160H180v160Zm220 220h160v-160H400v160Zm0 220h160v-160H400v160ZM180-400h160v-160H180v160Zm440 0h160v-160H620v160ZM180-180h160v-160H180v160Zm440 0h160v-160H620v160Z\"/>\n",
              "  </svg>\n",
              "    </button>\n",
              "\n",
              "  <style>\n",
              "    .colab-df-container {\n",
              "      display:flex;\n",
              "      gap: 12px;\n",
              "    }\n",
              "\n",
              "    .colab-df-convert {\n",
              "      background-color: #E8F0FE;\n",
              "      border: none;\n",
              "      border-radius: 50%;\n",
              "      cursor: pointer;\n",
              "      display: none;\n",
              "      fill: #1967D2;\n",
              "      height: 32px;\n",
              "      padding: 0 0 0 0;\n",
              "      width: 32px;\n",
              "    }\n",
              "\n",
              "    .colab-df-convert:hover {\n",
              "      background-color: #E2EBFA;\n",
              "      box-shadow: 0px 1px 2px rgba(60, 64, 67, 0.3), 0px 1px 3px 1px rgba(60, 64, 67, 0.15);\n",
              "      fill: #174EA6;\n",
              "    }\n",
              "\n",
              "    .colab-df-buttons div {\n",
              "      margin-bottom: 4px;\n",
              "    }\n",
              "\n",
              "    [theme=dark] .colab-df-convert {\n",
              "      background-color: #3B4455;\n",
              "      fill: #D2E3FC;\n",
              "    }\n",
              "\n",
              "    [theme=dark] .colab-df-convert:hover {\n",
              "      background-color: #434B5C;\n",
              "      box-shadow: 0px 1px 3px 1px rgba(0, 0, 0, 0.15);\n",
              "      filter: drop-shadow(0px 1px 2px rgba(0, 0, 0, 0.3));\n",
              "      fill: #FFFFFF;\n",
              "    }\n",
              "  </style>\n",
              "\n",
              "    <script>\n",
              "      const buttonEl =\n",
              "        document.querySelector('#df-019f088b-da2d-4db8-adbd-1043cb386220 button.colab-df-convert');\n",
              "      buttonEl.style.display =\n",
              "        google.colab.kernel.accessAllowed ? 'block' : 'none';\n",
              "\n",
              "      async function convertToInteractive(key) {\n",
              "        const element = document.querySelector('#df-019f088b-da2d-4db8-adbd-1043cb386220');\n",
              "        const dataTable =\n",
              "          await google.colab.kernel.invokeFunction('convertToInteractive',\n",
              "                                                    [key], {});\n",
              "        if (!dataTable) return;\n",
              "\n",
              "        const docLinkHtml = 'Like what you see? Visit the ' +\n",
              "          '<a target=\"_blank\" href=https://colab.research.google.com/notebooks/data_table.ipynb>data table notebook</a>'\n",
              "          + ' to learn more about interactive tables.';\n",
              "        element.innerHTML = '';\n",
              "        dataTable['output_type'] = 'display_data';\n",
              "        await google.colab.output.renderOutput(dataTable, element);\n",
              "        const docLink = document.createElement('div');\n",
              "        docLink.innerHTML = docLinkHtml;\n",
              "        element.appendChild(docLink);\n",
              "      }\n",
              "    </script>\n",
              "  </div>\n",
              "\n",
              "\n",
              "    <div id=\"df-a07c51fb-40e3-4771-8757-d7de55d63076\">\n",
              "      <button class=\"colab-df-quickchart\" onclick=\"quickchart('df-a07c51fb-40e3-4771-8757-d7de55d63076')\"\n",
              "                title=\"Suggest charts\"\n",
              "                style=\"display:none;\">\n",
              "\n",
              "<svg xmlns=\"http://www.w3.org/2000/svg\" height=\"24px\"viewBox=\"0 0 24 24\"\n",
              "     width=\"24px\">\n",
              "    <g>\n",
              "        <path d=\"M19 3H5c-1.1 0-2 .9-2 2v14c0 1.1.9 2 2 2h14c1.1 0 2-.9 2-2V5c0-1.1-.9-2-2-2zM9 17H7v-7h2v7zm4 0h-2V7h2v10zm4 0h-2v-4h2v4z\"/>\n",
              "    </g>\n",
              "</svg>\n",
              "      </button>\n",
              "\n",
              "<style>\n",
              "  .colab-df-quickchart {\n",
              "      --bg-color: #E8F0FE;\n",
              "      --fill-color: #1967D2;\n",
              "      --hover-bg-color: #E2EBFA;\n",
              "      --hover-fill-color: #174EA6;\n",
              "      --disabled-fill-color: #AAA;\n",
              "      --disabled-bg-color: #DDD;\n",
              "  }\n",
              "\n",
              "  [theme=dark] .colab-df-quickchart {\n",
              "      --bg-color: #3B4455;\n",
              "      --fill-color: #D2E3FC;\n",
              "      --hover-bg-color: #434B5C;\n",
              "      --hover-fill-color: #FFFFFF;\n",
              "      --disabled-bg-color: #3B4455;\n",
              "      --disabled-fill-color: #666;\n",
              "  }\n",
              "\n",
              "  .colab-df-quickchart {\n",
              "    background-color: var(--bg-color);\n",
              "    border: none;\n",
              "    border-radius: 50%;\n",
              "    cursor: pointer;\n",
              "    display: none;\n",
              "    fill: var(--fill-color);\n",
              "    height: 32px;\n",
              "    padding: 0;\n",
              "    width: 32px;\n",
              "  }\n",
              "\n",
              "  .colab-df-quickchart:hover {\n",
              "    background-color: var(--hover-bg-color);\n",
              "    box-shadow: 0 1px 2px rgba(60, 64, 67, 0.3), 0 1px 3px 1px rgba(60, 64, 67, 0.15);\n",
              "    fill: var(--button-hover-fill-color);\n",
              "  }\n",
              "\n",
              "  .colab-df-quickchart-complete:disabled,\n",
              "  .colab-df-quickchart-complete:disabled:hover {\n",
              "    background-color: var(--disabled-bg-color);\n",
              "    fill: var(--disabled-fill-color);\n",
              "    box-shadow: none;\n",
              "  }\n",
              "\n",
              "  .colab-df-spinner {\n",
              "    border: 2px solid var(--fill-color);\n",
              "    border-color: transparent;\n",
              "    border-bottom-color: var(--fill-color);\n",
              "    animation:\n",
              "      spin 1s steps(1) infinite;\n",
              "  }\n",
              "\n",
              "  @keyframes spin {\n",
              "    0% {\n",
              "      border-color: transparent;\n",
              "      border-bottom-color: var(--fill-color);\n",
              "      border-left-color: var(--fill-color);\n",
              "    }\n",
              "    20% {\n",
              "      border-color: transparent;\n",
              "      border-left-color: var(--fill-color);\n",
              "      border-top-color: var(--fill-color);\n",
              "    }\n",
              "    30% {\n",
              "      border-color: transparent;\n",
              "      border-left-color: var(--fill-color);\n",
              "      border-top-color: var(--fill-color);\n",
              "      border-right-color: var(--fill-color);\n",
              "    }\n",
              "    40% {\n",
              "      border-color: transparent;\n",
              "      border-right-color: var(--fill-color);\n",
              "      border-top-color: var(--fill-color);\n",
              "    }\n",
              "    60% {\n",
              "      border-color: transparent;\n",
              "      border-right-color: var(--fill-color);\n",
              "    }\n",
              "    80% {\n",
              "      border-color: transparent;\n",
              "      border-right-color: var(--fill-color);\n",
              "      border-bottom-color: var(--fill-color);\n",
              "    }\n",
              "    90% {\n",
              "      border-color: transparent;\n",
              "      border-bottom-color: var(--fill-color);\n",
              "    }\n",
              "  }\n",
              "</style>\n",
              "\n",
              "      <script>\n",
              "        async function quickchart(key) {\n",
              "          const quickchartButtonEl =\n",
              "            document.querySelector('#' + key + ' button');\n",
              "          quickchartButtonEl.disabled = true;  // To prevent multiple clicks.\n",
              "          quickchartButtonEl.classList.add('colab-df-spinner');\n",
              "          try {\n",
              "            const charts = await google.colab.kernel.invokeFunction(\n",
              "                'suggestCharts', [key], {});\n",
              "          } catch (error) {\n",
              "            console.error('Error during call to suggestCharts:', error);\n",
              "          }\n",
              "          quickchartButtonEl.classList.remove('colab-df-spinner');\n",
              "          quickchartButtonEl.classList.add('colab-df-quickchart-complete');\n",
              "        }\n",
              "        (() => {\n",
              "          let quickchartButtonEl =\n",
              "            document.querySelector('#df-a07c51fb-40e3-4771-8757-d7de55d63076 button');\n",
              "          quickchartButtonEl.style.display =\n",
              "            google.colab.kernel.accessAllowed ? 'block' : 'none';\n",
              "        })();\n",
              "      </script>\n",
              "    </div>\n",
              "\n",
              "    </div>\n",
              "  </div>\n"
            ],
            "application/vnd.google.colaboratory.intrinsic+json": {
              "type": "dataframe",
              "summary": "{\n  \"name\": \"df\",\n  \"rows\": 35,\n  \"fields\": [\n    {\n      \"column\": \"count\",\n      \"properties\": {\n        \"dtype\": \"date\",\n        \"min\": 1470.0,\n        \"max\": 1470.0,\n        \"num_unique_values\": 1,\n        \"samples\": [\n          1470.0\n        ],\n        \"semantic_type\": \"\",\n        \"description\": \"\"\n      }\n    },\n    {\n      \"column\": \"unique\",\n      \"properties\": {\n        \"dtype\": \"date\",\n        \"min\": 1,\n        \"max\": 9,\n        \"num_unique_values\": 5,\n        \"samples\": [\n          3\n        ],\n        \"semantic_type\": \"\",\n        \"description\": \"\"\n      }\n    },\n    {\n      \"column\": \"top\",\n      \"properties\": {\n        \"dtype\": \"category\",\n        \"num_unique_values\": 8,\n        \"samples\": [\n          \"Travel_Rarely\"\n        ],\n        \"semantic_type\": \"\",\n        \"description\": \"\"\n      }\n    },\n    {\n      \"column\": \"freq\",\n      \"properties\": {\n        \"dtype\": \"date\",\n        \"min\": \"326\",\n        \"max\": \"1470\",\n        \"num_unique_values\": 9,\n        \"samples\": [\n          \"1470\"\n        ],\n        \"semantic_type\": \"\",\n        \"description\": \"\"\n      }\n    },\n    {\n      \"column\": \"mean\",\n      \"properties\": {\n        \"dtype\": \"date\",\n        \"min\": 0.7938775510204081,\n        \"max\": 14313.103401360544,\n        \"num_unique_values\": 26,\n        \"samples\": [\n          2.7299319727891156\n        ],\n        \"semantic_type\": \"\",\n        \"description\": \"\"\n      }\n    },\n    {\n      \"column\": \"std\",\n      \"properties\": {\n        \"dtype\": \"date\",\n        \"min\": 0.0,\n        \"max\": 7117.786044059973,\n        \"num_unique_values\": 25,\n        \"samples\": [\n          0.7115611429632283\n        ],\n        \"semantic_type\": \"\",\n        \"description\": \"\"\n      }\n    },\n    {\n      \"column\": \"min\",\n      \"properties\": {\n        \"dtype\": \"date\",\n        \"min\": 0.0,\n        \"max\": 2094.0,\n        \"num_unique_values\": 10,\n        \"samples\": [\n          3.0\n        ],\n        \"semantic_type\": \"\",\n        \"description\": \"\"\n      }\n    },\n    {\n      \"column\": \"25%\",\n      \"properties\": {\n        \"dtype\": \"date\",\n        \"min\": 0.0,\n        \"max\": 8047.0,\n        \"num_unique_values\": 13,\n        \"samples\": [\n          0.0\n        ],\n        \"semantic_type\": \"\",\n        \"description\": \"\"\n      }\n    },\n    {\n      \"column\": \"50%\",\n      \"properties\": {\n        \"dtype\": \"date\",\n        \"min\": 1.0,\n        \"max\": 14235.5,\n        \"num_unique_values\": 14,\n        \"samples\": [\n          14235.5\n        ],\n        \"semantic_type\": \"\",\n        \"description\": \"\"\n      }\n    },\n    {\n      \"column\": \"75%\",\n      \"properties\": {\n        \"dtype\": \"date\",\n        \"min\": 1.0,\n        \"max\": 20461.5,\n        \"num_unique_values\": 15,\n        \"samples\": [\n          20461.5\n        ],\n        \"semantic_type\": \"\",\n        \"description\": \"\"\n      }\n    },\n    {\n      \"column\": \"max\",\n      \"properties\": {\n        \"dtype\": \"date\",\n        \"min\": 1.0,\n        \"max\": 26999.0,\n        \"num_unique_values\": 19,\n        \"samples\": [\n          60.0\n        ],\n        \"semantic_type\": \"\",\n        \"description\": \"\"\n      }\n    }\n  ]\n}"
            }
          },
          "metadata": {},
          "execution_count": 11
        }
      ],
      "source": [
        "# ++++++++++++++ Inicia sección de agregar código ++++++++++++++++++++\n",
        "file_path=\"/content/drive/MyDrive/IAAyAA/Semana3/WA_Fn-UseC_-HR-Employee-Attrition.csv\"\n",
        "\n",
        "df = pd.read_csv(file_path)\n",
        "\n",
        "# +++++++++++++ Termina sección de agregar código +++++++++++++++++++++\n",
        "\n",
        "\n",
        "print(\"Tamaño del DataFrame:\", df.shape)\n",
        "df.describe(include = 'all').T\n"
      ]
    },
    {
      "cell_type": "markdown",
      "source": [
        "# **Ejercicio 3:**"
      ],
      "metadata": {
        "id": "4KnDCDS5vh05"
      },
      "id": "4KnDCDS5vh05"
    },
    {
      "cell_type": "markdown",
      "source": [
        "#### **Indica cuál es la diferencia entre utilizar o no el argumento include=”all” del método \"describe\" en el ejercicio anterior.**"
      ],
      "metadata": {
        "id": "H3LIfPWNvhw0"
      },
      "id": "H3LIfPWNvhw0"
    },
    {
      "cell_type": "markdown",
      "source": [
        "++++++++ Inicia la sección de agregar texto: ++++++++++++\n",
        "\n",
        "\n",
        "None\n",
        "\n",
        "\n",
        "++++++++ Termina la sección de agregar texto. +++++++++++"
      ],
      "metadata": {
        "id": "hf0DL3YcwVAC"
      },
      "id": "hf0DL3YcwVAC"
    },
    {
      "cell_type": "markdown",
      "source": [
        "# **Ejercicio 4:**"
      ],
      "metadata": {
        "id": "-kGON2vOw9_8"
      },
      "id": "-kGON2vOw9_8"
    },
    {
      "cell_type": "markdown",
      "source": [
        "#### **Con base a la información desplegada por la instrucción anterior, hemos decidido cancelar los siguientes factores de nuestro problema: Over18, EmployeeCount, StandardHours, EmployeeNumber. Explica cuál es la justificación que nos permite cancelar cada uno de estos factores:**\n",
        "\n",
        "++++++++ Inicia la sección de agregar texto: ++++++++++++\n",
        "\n",
        "**a)   Over18**: Todos los encuestados son mayores de 18 años.\n",
        "\n",
        "**b)\tEmployeeCount**: El valor de conteo es 1 en todos los casos.\n",
        "\n",
        "**c)\tStandardHours**: El valor es el mismo en todos los casos 80hrs.\n",
        "\n",
        "**d)\tEmployeeNumber**: Es solo un numbero único o de identificación, por lo que no ofrece nada para la solución.\n",
        "\n",
        "++++++++ Termina la sección de agregar texto. +++++++++++\n",
        "\n",
        "\n"
      ],
      "metadata": {
        "id": "Rb0lc1OrxAuY"
      },
      "id": "Rb0lc1OrxAuY"
    },
    {
      "cell_type": "code",
      "execution_count": 12,
      "id": "9b32cb04",
      "metadata": {
        "id": "9b32cb04",
        "colab": {
          "base_uri": "https://localhost:8080/"
        },
        "outputId": "fd4f2a7a-fcaa-40d9-9528-d9990bd62206"
      },
      "outputs": [
        {
          "output_type": "stream",
          "name": "stdout",
          "text": [
            "Tamaño del nuevo DataFrame: (1470, 31)\n"
          ]
        }
      ],
      "source": [
        "# Eliminamos los factores indicados:\n",
        "\n",
        "df = df.drop(['Over18','EmployeeCount','StandardHours','EmployeeNumber'],axis=1)\n",
        "\n",
        "print(\"Tamaño del nuevo DataFrame:\", df.shape)"
      ]
    },
    {
      "cell_type": "markdown",
      "source": [
        "# **Ejercicio 5:**"
      ],
      "metadata": {
        "id": "BFJsH9kx0vFa"
      },
      "id": "BFJsH9kx0vFa"
    },
    {
      "cell_type": "markdown",
      "source": [
        "#### **Realiza una partición de los datos en Entrenamiento, Validación y Prueba, del 70%, 15% y 15%, respectivamente. Llama a dichos conjuntos Xtrain, Xval, Xtest, ytrain, yval, ytest, para los datos de entrada y de salida, respectivamente. Asegúrate que dicha partición conserve la estratificación de las clases de la variable “Attrition”. Despliega además la dimensión obtenida de los tres conjuntos: Entrenamiento, Validación y Prueba.**\n",
        "\n",
        "#### **NOTA: Utiliza semillas en cada función de partición, para permitir la repetibilidad de tu modelo y poder evaluarlo de mejor majera.**"
      ],
      "metadata": {
        "id": "UWcvTjY63Uru"
      },
      "id": "UWcvTjY63Uru"
    },
    {
      "cell_type": "code",
      "source": [
        "# ++++++++++++++ Inicia sección de agregar código +++++++++++++++++++++\n",
        "X = df.drop(['Attrition'],axis=1)\n",
        "y = df[['Attrition']]\n",
        "\n",
        "Xtrain, Xtest, ytrain, ytest = train_test_split(X, y, test_size=0.3, random_state=1)\n",
        "Xtest, Xval, ytest, yval = train_test_split(Xtest, ytest, test_size=0.5, random_state=1)\n",
        "\n",
        "print('Dimension del conjunto Entrenamiento: ',Xtrain.shape)\n",
        "print('Dimension del conjunto Validación: ',Xval.shape)\n",
        "print('Dimension del conjunto Prueba: ',Xtest.shape)\n",
        "# ++++++++++++++ Termina sección de agregar código +++++++++++++++++++++"
      ],
      "metadata": {
        "id": "4pYkwIiF1aU9",
        "colab": {
          "base_uri": "https://localhost:8080/"
        },
        "outputId": "83d336e6-b8ea-4157-b170-027759f76448"
      },
      "id": "4pYkwIiF1aU9",
      "execution_count": 13,
      "outputs": [
        {
          "output_type": "stream",
          "name": "stdout",
          "text": [
            "Dimension del conjunto Entrenamiento:  (1029, 30)\n",
            "Dimension del conjunto Validación:  (221, 30)\n",
            "Dimension del conjunto Prueba:  (220, 30)\n"
          ]
        }
      ]
    },
    {
      "cell_type": "markdown",
      "id": "89133c57",
      "metadata": {
        "id": "89133c57"
      },
      "source": [
        "# **Ejercicio 6:**\n"
      ]
    },
    {
      "cell_type": "markdown",
      "source": [
        "#### **Aplica la transformación LabelEncoder() de sklearn a la variable de salida “Attrition”. Las nuevas variables deberán llamarse ahora: ytrainT, yvalT, ytestT. Encuentra la proporción de datos en cada nivel de esta variable y con base a dicha información indica si podemos considerar que tenemos un problema de datos desbalanceados.**\n",
        "\n",
        "#### NOTA: Aplica esta transformación evitando el filtrado de información (data leakage)."
      ],
      "metadata": {
        "id": "IE3vDeVW6Laq"
      },
      "id": "IE3vDeVW6Laq"
    },
    {
      "cell_type": "code",
      "source": [
        "# ++++++++++ Inicia sección para agregar tu código ++++++++++++++++++++++++\n",
        "\n",
        "\n",
        "le = LabelEncoder()\n",
        "ytrainT = pd.DataFrame(le.fit_transform(ytrain), columns=ytrain.columns)\n",
        "yvalT = pd.DataFrame(le.fit_transform(yval), columns=yval.columns)\n",
        "ytestT = pd.DataFrame(le.fit_transform(ytest), columns=yval.columns)\n",
        "\n",
        "\n",
        "# +++++++++++++++++ Termina sección para agregar tu código ++++++++++++++++++++++++\n",
        "\n",
        "\n",
        "print('Porcentaje de datos en cada clase de entrenamiento - Attrition:', ytrainT['Attrition'].value_counts() / ytrainT.shape[0])"
      ],
      "metadata": {
        "id": "D6FkTLVBd2N0",
        "colab": {
          "base_uri": "https://localhost:8080/"
        },
        "outputId": "23796dae-29ea-49cf-be1a-f666ba96e704"
      },
      "id": "D6FkTLVBd2N0",
      "execution_count": 14,
      "outputs": [
        {
          "output_type": "stream",
          "name": "stdout",
          "text": [
            "Porcentaje de datos en cada clase de entrenamiento - Attrition: Attrition\n",
            "0    0.844509\n",
            "1    0.155491\n",
            "Name: count, dtype: float64\n"
          ]
        },
        {
          "output_type": "stream",
          "name": "stderr",
          "text": [
            "/usr/local/lib/python3.11/dist-packages/sklearn/preprocessing/_label.py:110: DataConversionWarning: A column-vector y was passed when a 1d array was expected. Please change the shape of y to (n_samples, ), for example using ravel().\n",
            "  y = column_or_1d(y, warn=True)\n",
            "/usr/local/lib/python3.11/dist-packages/sklearn/preprocessing/_label.py:110: DataConversionWarning: A column-vector y was passed when a 1d array was expected. Please change the shape of y to (n_samples, ), for example using ravel().\n",
            "  y = column_or_1d(y, warn=True)\n",
            "/usr/local/lib/python3.11/dist-packages/sklearn/preprocessing/_label.py:110: DataConversionWarning: A column-vector y was passed when a 1d array was expected. Please change the shape of y to (n_samples, ), for example using ravel().\n",
            "  y = column_or_1d(y, warn=True)\n"
          ]
        }
      ]
    },
    {
      "cell_type": "markdown",
      "source": [
        "# **Ejercicio 7:**\n"
      ],
      "metadata": {
        "id": "3iE95_bh8XF4"
      },
      "id": "3iE95_bh8XF4"
    },
    {
      "cell_type": "markdown",
      "source": [
        "#### **Incluye a continuación el análisis gáfico y describtivo que consideres adecuado. Con base a estos gráficos ¿qué tipo de transformaciones sugieres llevar a cabo en dichas variables?**"
      ],
      "metadata": {
        "id": "tj6jEsdS4-1-"
      },
      "id": "tj6jEsdS4-1-"
    },
    {
      "cell_type": "code",
      "execution_count": null,
      "id": "fa966050",
      "metadata": {
        "id": "fa966050"
      },
      "outputs": [],
      "source": [
        "# ++++++++++ Inicia sección para agregar tu código ++++++++++++++++++++++++\n",
        "# Incluye en esta sección todas las celdas que consideres conveniente.\n",
        "\n",
        "\n",
        "None\n",
        "\n",
        "\n",
        "# ++++++++++ Termina sección para agregar tu código ++++++++++++++++++++++++\n",
        "\n"
      ]
    },
    {
      "cell_type": "markdown",
      "source": [
        "# **Ejercicio 8:**"
      ],
      "metadata": {
        "id": "7UnNwVptCnmk"
      },
      "id": "7UnNwVptCnmk"
    },
    {
      "cell_type": "markdown",
      "source": [
        "#### **Utiliza las clases Pipeline y ColumnTransformer de Sklearn para definir las transformaciones que deberán aplicarse a cada variable de acuerdo a su tipo.**\n",
        "\n"
      ],
      "metadata": {
        "id": "cZJ86ke_DyLC"
      },
      "id": "cZJ86ke_DyLC"
    },
    {
      "cell_type": "code",
      "source": [
        "# ++++++++++ Inicia sección para agregar tu código ++++++++++++++++++++++++\n",
        "\n",
        "\n",
        "# NUMÉRICAS:\n",
        "numericas_pipeline = Pipeline( None )\n",
        "numericas_pipeline_nombres = None\n",
        "\n",
        "# ORDINALES:\n",
        "catOrd_pipeline = Pipeline( None )\n",
        "catOrd_pipeline_nombres = None\n",
        "\n",
        "# BINARIAS:\n",
        "catBin_pipeline = Pipeline( None )\n",
        "catBin_pipeline_nombres = None\n",
        "\n",
        "# NOMINALES:\n",
        "catNom_pipeline = Pipeline( None )\n",
        "catNom_pipeline_nombres = None\n",
        "\n",
        "\n",
        "\n",
        "columnasTransformer = ColumnTransformer( None )\n",
        "\n",
        "# ++++++++++ Termina sección para agregar tu código ++++++++++++++++++++++++"
      ],
      "metadata": {
        "id": "5Kvk3CDsFqPE"
      },
      "id": "5Kvk3CDsFqPE",
      "execution_count": null,
      "outputs": []
    },
    {
      "cell_type": "markdown",
      "source": [
        "# **Ejercicio 9:**"
      ],
      "metadata": {
        "id": "2WjnvhIrEy8x"
      },
      "id": "2WjnvhIrEy8x"
    },
    {
      "cell_type": "markdown",
      "source": [
        "#### **Reagrupa los conjuntos de entrenamiento y validación en un solo DataFrame.**\n",
        "\n",
        "#### **A estos nuevos DataFrame llamarlos Xtv y ytv.**"
      ],
      "metadata": {
        "id": "kDhCIvI7E2aY"
      },
      "id": "kDhCIvI7E2aY"
    },
    {
      "cell_type": "code",
      "source": [
        "# ++++++++++ Inicia sección para agregar tu código ++++++++++++++++++++++++\n",
        "\n",
        "\n",
        "None\n",
        "\n",
        "\n",
        "# ++++++++++ Termina sección para agregar tu código ++++++++++++++++++++++++\n",
        "\n",
        "print(Xtv.shape)\n",
        "print(ytv.shape)"
      ],
      "metadata": {
        "id": "PYHj38QVE_Hv"
      },
      "id": "PYHj38QVE_Hv",
      "execution_count": null,
      "outputs": []
    },
    {
      "cell_type": "markdown",
      "source": [
        "# **Ejercicio 10:**"
      ],
      "metadata": {
        "id": "FYSK42MxFaHk"
      },
      "id": "FYSK42MxFaHk"
    },
    {
      "cell_type": "markdown",
      "source": [
        "#### **Busca los mejores hiperparámetros.**"
      ],
      "metadata": {
        "id": "GLNcR6ZHFbyt"
      },
      "id": "GLNcR6ZHFbyt"
    },
    {
      "cell_type": "code",
      "source": [
        "# ++++++++++ Inicia sección para agregar tu código ++++++++++++++++++++++++\n",
        "\n",
        "\n",
        "def mis_modelos():\n",
        "  modelos, nombres = list(), list()\n",
        "\n",
        "  # LR - Regresión Logística sin regularización:\n",
        "  modelos.append(LogisticRegression(penalty=None,  # Este valor de \"penalty\" no se debe de cambiar, ya que define el modelo sin regularización.\n",
        "                                    None,     # Incluye aquí todos los hiperparámetros y valores que consideres adecuados.\n",
        "                                    random_state=1))\n",
        "  nombres.append('LR')\n",
        "\n",
        "\n",
        "  # Lasso - Regresión Logística con regularización L1:\n",
        "  modelos.append(LogisticRegression(penalty='l1',\n",
        "                                    None,     # Incluye aquí todos los hiperparámetros y valores que consideres adecuados.\n",
        "                                    random_state=1))\n",
        "  nombres.append('LASSO')\n",
        "\n",
        "\n",
        "  # Ridge - Regresión Logística con regularización L2:\n",
        "  modelos.append(LogisticRegression(penalty='l2',\n",
        "                                    None,     # Incluye aquí todos los hiperparámetros y valores que consideres adecuados.\n",
        "                                    random_state=1))\n",
        "  nombres.append('RIDGE')\n",
        "\n",
        "\n",
        "  # Elastic_Net - - Regresión Logística con regularización L1 y L2:\n",
        "  modelos.append(LogisticRegression(penalty='elasticnet',\n",
        "                                    None,     # Incluye aquí todos los hiperparámetros y valores que consideres adecuados.\n",
        "                                    random_state=1))\n",
        "  nombres.append('EN')\n",
        "\n",
        "\n",
        "\n",
        "  # kNN - k-Vecinos más cercanos:\n",
        "  modelos.append(KNeighborsClassifier(None)) # Incluye aquí todos los hiperparámetros y valores que consideres adecuados.\n",
        "  nombres.append('kNN')\n",
        "\n",
        "  return modelos, nombres\n",
        "\n",
        "# ++++++++++ Termina sección para agregar tu código ++++++++++++++++++++++++\n",
        "\n",
        "\n",
        "\n",
        "# Entrenamos los modelos:\n",
        "\n",
        "modelos, nombres = mis_modelos()  # accesando los modelos.\n",
        "resultados = list()    # para guardar los resultados en esta lista.\n",
        "\n",
        "# Iterando y entrenando sobre cada modelo:\n",
        "for i in range(len(modelos)):\n",
        "\n",
        "  pipeline = Pipeline(steps=[('ct',columnasTransformer),('m',modelos[i])])   # Transformaciones y modelo en un Pipeline.\n",
        "\n",
        "  cv1 = RepeatedStratifiedKFold(n_splits=5, n_repeats=3, random_state=7)     # Aplicando una de las variantes de Validación Cruzada.\n",
        "\n",
        "  scores = cross_val_score(pipeline, Xtv, np.ravel(ytv), scoring='accuracy', cv=cv1)   # entrenando y generando los resultados.\n",
        "\n",
        "  resultados.append(scores)    # guardando los resultados en la lista.\n",
        "  print('>> %s %.3f (%.3f)' % (nombres[i], np.nanmean(scores), np.nanstd(scores)))  # desplegando los promedios de cada modelo.\n",
        "\n",
        "\n",
        "plt.boxplot(resultados, labels=nombres, showmeans=True)   # gráficos de caja para una comparación visual de los resultados.\n",
        "plt.show()"
      ],
      "metadata": {
        "id": "BzSCDRquFm5z"
      },
      "id": "BzSCDRquFm5z",
      "execution_count": null,
      "outputs": []
    },
    {
      "cell_type": "markdown",
      "source": [
        "# **Ejercicio 11:**"
      ],
      "metadata": {
        "id": "hZsec1sDGxly"
      },
      "id": "hZsec1sDGxly"
    },
    {
      "cell_type": "markdown",
      "source": [
        "#### **Utilizando el mejor modelo y los datos Xtv, ytv, realiza una búsqueda de malla para encontrar los mejores hiperparámetros. Verifica que el modelo no esté subentrenado o sobreentrenado.**\n",
        "\n"
      ],
      "metadata": {
        "id": "lCepDvlqIhlr"
      },
      "id": "lCepDvlqIhlr"
    },
    {
      "cell_type": "code",
      "source": [
        "# +++++++++ Inicia sección para incluir tu código ++++++++++++++++++++++++\n",
        "\n",
        "\n",
        "mejor_modelo = None\n",
        "\n",
        "\n",
        "# +++++++++ Termina sección para incluir tu código ++++++++++++++++++++++++\n",
        "\n",
        "\n",
        "\n",
        "print(\"Mejor modelo: %f usando %s\" % (grid_result.best_score_, grid_result.best_params_))\n",
        "print('Promedios Train mean(std): %.4f(%.4f)' % (np.nanmean(grid_result.cv_results_['mean_train_score']),\n",
        "                                                 np.nanmean(grid_result.cv_results_['std_train_score'])))\n",
        "print('Promedios Val mean(std): %.4f(%.4f)' % (grid_result.cv_results_['mean_test_score'].mean(),\n",
        "                                               grid_result.cv_results_['std_test_score'].mean()))\n"
      ],
      "metadata": {
        "id": "-J1NiHo6Duhr"
      },
      "id": "-J1NiHo6Duhr",
      "execution_count": null,
      "outputs": []
    },
    {
      "cell_type": "markdown",
      "source": [
        "# **Ejercicio 12:**"
      ],
      "metadata": {
        "id": "O21vnmQ2NGfV"
      },
      "id": "O21vnmQ2NGfV"
    },
    {
      "cell_type": "markdown",
      "source": [
        "#### **Con los mejores valores de hiperparámetros del mejor modelo encontrado, obtener:**\n",
        "\n",
        "*   #### **a) Matriz de Confusión.**\n",
        "*   #### **b) Análisis de Imprtancia de Factores.**\n",
        "*   #### **c) Reporte de métricas.**"
      ],
      "metadata": {
        "id": "49YltpUDNBFh"
      },
      "id": "49YltpUDNBFh"
    },
    {
      "cell_type": "code",
      "source": [
        "# +++++++++ Inicia sección para incluir tu código ++++++++++++++++++++++++\n",
        "# Incluye todas las celdas que consideres adecuado para responder\n",
        "# estos tres incisos del ejercicio.\n",
        "\n",
        "\n",
        "None\n",
        "\n",
        "\n",
        "# +++++++++ Termina sección para incluir tu código ++++++++++++++++++++++++"
      ],
      "metadata": {
        "id": "f4saUgimLkxX"
      },
      "id": "f4saUgimLkxX",
      "execution_count": null,
      "outputs": []
    },
    {
      "cell_type": "markdown",
      "source": [
        "# **Ejercicio 13**"
      ],
      "metadata": {
        "id": "EmT2jehoOJP-"
      },
      "id": "EmT2jehoOJP-"
    },
    {
      "cell_type": "markdown",
      "source": [
        "#### **Obtener el desempeño final del modelo (accuracy) con el conjunto de prueba (test).**"
      ],
      "metadata": {
        "id": "4-gTbTSUOGPv"
      },
      "id": "4-gTbTSUOGPv"
    },
    {
      "cell_type": "code",
      "source": [
        "# +++++++++ Inicia sección para incluir tu código ++++++++++++++++++++++++\n",
        "\n",
        "None\n",
        "\n",
        "# +++++++++ Termina sección para incluir tu código ++++++++++++++++++++++++"
      ],
      "metadata": {
        "id": "RSQkAnyBN_u4"
      },
      "id": "RSQkAnyBN_u4",
      "execution_count": null,
      "outputs": []
    },
    {
      "cell_type": "markdown",
      "source": [
        "# **Ejercicio 14**"
      ],
      "metadata": {
        "id": "QnsFJvAHORHW"
      },
      "id": "QnsFJvAHORHW"
    },
    {
      "cell_type": "markdown",
      "source": [
        "#### **Incluye tus conclusiones finales de la actividad.**"
      ],
      "metadata": {
        "id": "aUFofqzHOVAl"
      },
      "id": "aUFofqzHOVAl"
    },
    {
      "cell_type": "markdown",
      "source": [
        "#### +++++++++ Inicia sección para incluir tus conclusiones ++++++++++++++++++++++++\n",
        "\n",
        "None\n",
        "\n",
        "#### +++++++++ Termina sección para incluir tus conclusiones ++++++++++++++++++++++++"
      ],
      "metadata": {
        "id": "Quiag20AOYH0"
      },
      "id": "Quiag20AOYH0"
    },
    {
      "cell_type": "markdown",
      "id": "5fd5aadb",
      "metadata": {
        "id": "5fd5aadb"
      },
      "source": [
        "# >> **Fin de la Actividad de la Semana 3** <<"
      ]
    }
  ],
  "metadata": {
    "kernelspec": {
      "display_name": "Python 3 (ipykernel)",
      "language": "python",
      "name": "python3"
    },
    "language_info": {
      "codemirror_mode": {
        "name": "ipython",
        "version": 3
      },
      "file_extension": ".py",
      "mimetype": "text/x-python",
      "name": "python",
      "nbconvert_exporter": "python",
      "pygments_lexer": "ipython3",
      "version": "3.9.13"
    },
    "colab": {
      "provenance": [],
      "collapsed_sections": [
        "ac09ecaf",
        "_FN5RwbGpz0c",
        "4KnDCDS5vh05",
        "-kGON2vOw9_8",
        "BFJsH9kx0vFa",
        "89133c57",
        "3iE95_bh8XF4",
        "7UnNwVptCnmk",
        "2WjnvhIrEy8x",
        "FYSK42MxFaHk",
        "hZsec1sDGxly",
        "O21vnmQ2NGfV",
        "EmT2jehoOJP-",
        "QnsFJvAHORHW"
      ]
    }
  },
  "nbformat": 4,
  "nbformat_minor": 5
}